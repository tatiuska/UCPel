{
 "cells": [
  {
   "cell_type": "code",
   "execution_count": 1,
   "metadata": {
    "colab": {
     "base_uri": "https://localhost:8080/"
    },
    "id": "ZbRjbKwOYuUj",
    "outputId": "2c44729c-a73b-4b02-fcd7-8f0cdfb39ecb"
   },
   "outputs": [],
   "source": [
    "#Modelo de AM para aplicação do algoritmo LogisticRegression\n",
    "#Importação de bibliotecas\n",
    "import numpy as np\n",
    "import matplotlib.pyplot as plt\n",
    "import seaborn as sns\n",
    "\n",
    "from sklearn.linear_model import LogisticRegression\n",
    "from sklearn.metrics import confusion_matrix"
   ]
  },
  {
   "cell_type": "code",
   "execution_count": 2,
   "metadata": {
    "id": "BqN1Hfptdtdx"
   },
   "outputs": [],
   "source": [
    "#Carregamento do banco de dados\n",
    "import pandas as pd \n",
    "arquivo = pd.read_csv('C:/UCPEL/IA-ML/wine_dataset.csv')"
   ]
  },
  {
   "cell_type": "code",
   "execution_count": 3,
   "metadata": {
    "colab": {
     "base_uri": "https://localhost:8080/",
     "height": 268
    },
    "id": "LWD1xB2ij083",
    "outputId": "65751541-60a7-4c01-9f45-ed7dc51a634d"
   },
   "outputs": [
    {
     "data": {
      "text/html": [
       "<div>\n",
       "<style scoped>\n",
       "    .dataframe tbody tr th:only-of-type {\n",
       "        vertical-align: middle;\n",
       "    }\n",
       "\n",
       "    .dataframe tbody tr th {\n",
       "        vertical-align: top;\n",
       "    }\n",
       "\n",
       "    .dataframe thead th {\n",
       "        text-align: right;\n",
       "    }\n",
       "</style>\n",
       "<table border=\"1\" class=\"dataframe\">\n",
       "  <thead>\n",
       "    <tr style=\"text-align: right;\">\n",
       "      <th></th>\n",
       "      <th>fixed_acidity</th>\n",
       "      <th>volatile_acidity</th>\n",
       "      <th>citric_acid</th>\n",
       "      <th>residual_sugar</th>\n",
       "      <th>chlorides</th>\n",
       "      <th>free_sulfur_dioxide</th>\n",
       "      <th>total_sulfur_dioxide</th>\n",
       "      <th>density</th>\n",
       "      <th>pH</th>\n",
       "      <th>sulphates</th>\n",
       "      <th>alcohol</th>\n",
       "      <th>quality</th>\n",
       "      <th>style</th>\n",
       "    </tr>\n",
       "  </thead>\n",
       "  <tbody>\n",
       "    <tr>\n",
       "      <th>0</th>\n",
       "      <td>7.4</td>\n",
       "      <td>0.70</td>\n",
       "      <td>0.00</td>\n",
       "      <td>1.9</td>\n",
       "      <td>0.076</td>\n",
       "      <td>11.0</td>\n",
       "      <td>34.0</td>\n",
       "      <td>0.9978</td>\n",
       "      <td>3.51</td>\n",
       "      <td>0.56</td>\n",
       "      <td>9.4</td>\n",
       "      <td>5</td>\n",
       "      <td>red</td>\n",
       "    </tr>\n",
       "    <tr>\n",
       "      <th>1</th>\n",
       "      <td>7.8</td>\n",
       "      <td>0.88</td>\n",
       "      <td>0.00</td>\n",
       "      <td>2.6</td>\n",
       "      <td>0.098</td>\n",
       "      <td>25.0</td>\n",
       "      <td>67.0</td>\n",
       "      <td>0.9968</td>\n",
       "      <td>3.20</td>\n",
       "      <td>0.68</td>\n",
       "      <td>9.8</td>\n",
       "      <td>5</td>\n",
       "      <td>red</td>\n",
       "    </tr>\n",
       "    <tr>\n",
       "      <th>2</th>\n",
       "      <td>7.8</td>\n",
       "      <td>0.76</td>\n",
       "      <td>0.04</td>\n",
       "      <td>2.3</td>\n",
       "      <td>0.092</td>\n",
       "      <td>15.0</td>\n",
       "      <td>54.0</td>\n",
       "      <td>0.9970</td>\n",
       "      <td>3.26</td>\n",
       "      <td>0.65</td>\n",
       "      <td>9.8</td>\n",
       "      <td>5</td>\n",
       "      <td>red</td>\n",
       "    </tr>\n",
       "    <tr>\n",
       "      <th>3</th>\n",
       "      <td>11.2</td>\n",
       "      <td>0.28</td>\n",
       "      <td>0.56</td>\n",
       "      <td>1.9</td>\n",
       "      <td>0.075</td>\n",
       "      <td>17.0</td>\n",
       "      <td>60.0</td>\n",
       "      <td>0.9980</td>\n",
       "      <td>3.16</td>\n",
       "      <td>0.58</td>\n",
       "      <td>9.8</td>\n",
       "      <td>6</td>\n",
       "      <td>red</td>\n",
       "    </tr>\n",
       "    <tr>\n",
       "      <th>4</th>\n",
       "      <td>7.4</td>\n",
       "      <td>0.70</td>\n",
       "      <td>0.00</td>\n",
       "      <td>1.9</td>\n",
       "      <td>0.076</td>\n",
       "      <td>11.0</td>\n",
       "      <td>34.0</td>\n",
       "      <td>0.9978</td>\n",
       "      <td>3.51</td>\n",
       "      <td>0.56</td>\n",
       "      <td>9.4</td>\n",
       "      <td>5</td>\n",
       "      <td>red</td>\n",
       "    </tr>\n",
       "  </tbody>\n",
       "</table>\n",
       "</div>"
      ],
      "text/plain": [
       "   fixed_acidity  volatile_acidity  citric_acid  residual_sugar  chlorides  \\\n",
       "0            7.4              0.70         0.00             1.9      0.076   \n",
       "1            7.8              0.88         0.00             2.6      0.098   \n",
       "2            7.8              0.76         0.04             2.3      0.092   \n",
       "3           11.2              0.28         0.56             1.9      0.075   \n",
       "4            7.4              0.70         0.00             1.9      0.076   \n",
       "\n",
       "   free_sulfur_dioxide  total_sulfur_dioxide  density    pH  sulphates  \\\n",
       "0                 11.0                  34.0   0.9978  3.51       0.56   \n",
       "1                 25.0                  67.0   0.9968  3.20       0.68   \n",
       "2                 15.0                  54.0   0.9970  3.26       0.65   \n",
       "3                 17.0                  60.0   0.9980  3.16       0.58   \n",
       "4                 11.0                  34.0   0.9978  3.51       0.56   \n",
       "\n",
       "   alcohol  quality style  \n",
       "0      9.4        5   red  \n",
       "1      9.8        5   red  \n",
       "2      9.8        5   red  \n",
       "3      9.8        6   red  \n",
       "4      9.4        5   red  "
      ]
     },
     "execution_count": 3,
     "metadata": {},
     "output_type": "execute_result"
    }
   ],
   "source": [
    "#Visualização do conjunto de dados (cinco primeiras amostras)\n",
    "arquivo.head()"
   ]
  },
  {
   "cell_type": "code",
   "execution_count": 4,
   "metadata": {
    "colab": {
     "base_uri": "https://localhost:8080/"
    },
    "id": "uOanj-Mzn--e",
    "outputId": "9addfb34-3d91-46f0-de34-04ca24a74537"
   },
   "outputs": [
    {
     "data": {
      "text/plain": [
       "(6497, 13)"
      ]
     },
     "execution_count": 4,
     "metadata": {},
     "output_type": "execute_result"
    }
   ],
   "source": [
    "#Visualização do tamanho do banco de dados\n",
    "arquivo.shape"
   ]
  },
  {
   "cell_type": "code",
   "execution_count": 5,
   "metadata": {
    "id": "waPiq6tSjkAw"
   },
   "outputs": [],
   "source": [
    "#Transformar formato texto em formato numérico (desfecho)\n",
    "arquivo['style'] = arquivo['style'].replace('red', 0)\n",
    "arquivo['style'] = arquivo['style'].replace('white', 1)"
   ]
  },
  {
   "cell_type": "code",
   "execution_count": 6,
   "metadata": {
    "id": "ZoaQ-eiAlZj0"
   },
   "outputs": [],
   "source": [
    "#Separação das variáveis preditoras (características) e da variável alvo (desfecho)\n",
    "y = arquivo['style']\n",
    "x = arquivo.drop('style', axis = 1)"
   ]
  },
  {
   "cell_type": "code",
   "execution_count": 7,
   "metadata": {
    "id": "SU9fbSpum2D9"
   },
   "outputs": [],
   "source": [
    "#Criação dos conjuntos de treino e teste (aleatório)\n",
    "from sklearn.model_selection import train_test_split\n",
    "\n",
    "x_treino, x_teste, y_treino, y_teste = train_test_split(x, y, test_size = 0.33, random_state = 42)"
   ]
  },
  {
   "cell_type": "code",
   "execution_count": 8,
   "metadata": {
    "colab": {
     "base_uri": "https://localhost:8080/"
    },
    "id": "dPwnQ3jzoIMd",
    "outputId": "075a4d26-b3fe-40aa-8fdd-b9163a59dd84"
   },
   "outputs": [
    {
     "data": {
      "text/plain": [
       "(4352, 12)"
      ]
     },
     "execution_count": 8,
     "metadata": {},
     "output_type": "execute_result"
    }
   ],
   "source": [
    "#Quantidade de dados para treino\n",
    "x_treino.shape"
   ]
  },
  {
   "cell_type": "code",
   "execution_count": 9,
   "metadata": {
    "colab": {
     "base_uri": "https://localhost:8080/"
    },
    "id": "KYzZ_62uosw0",
    "outputId": "acb7e8ea-e8cd-4399-cd0d-1bdda919bb5c"
   },
   "outputs": [
    {
     "data": {
      "text/plain": [
       "(2145, 12)"
      ]
     },
     "execution_count": 9,
     "metadata": {},
     "output_type": "execute_result"
    }
   ],
   "source": [
    "#Quantidade de dados para teste\n",
    "x_teste.shape"
   ]
  },
  {
   "cell_type": "code",
   "execution_count": 10,
   "metadata": {
    "colab": {
     "base_uri": "https://localhost:8080/",
     "height": 74
    },
    "id": "Ifze689poz_U",
    "outputId": "c861a16d-e224-4d6b-c75e-49b5d63c7c07"
   },
   "outputs": [
    {
     "name": "stdout",
     "output_type": "stream",
     "text": [
      "Acurácia:  0.9906759906759907\n",
      "Acurácia:  0.9906759906759907\n",
      "Acurácia:  0.9906759906759907\n",
      "Acurácia:  0.9906759906759907\n",
      "Acurácia:  0.9906759906759907\n",
      "Acurácia:  0.9906759906759907\n",
      "Acurácia:  0.9906759906759907\n",
      "Acurácia:  0.9906759906759907\n",
      "Acurácia:  0.9906759906759907\n",
      "Acurácia:  0.9906759906759907\n",
      "Acurácia:  0.9906759906759907\n",
      "Acurácia:  0.9906759906759907\n",
      "Acurácia:  0.9906759906759907\n",
      "Acurácia:  0.9906759906759907\n",
      "Acurácia:  0.9906759906759907\n",
      "Acurácia:  0.9906759906759907\n",
      "Acurácia:  0.9906759906759907\n",
      "Acurácia:  0.9906759906759907\n",
      "Acurácia:  0.9906759906759907\n",
      "Acurácia:  0.9906759906759907\n",
      "Acurácia:  0.9906759906759907\n",
      "Acurácia:  0.9906759906759907\n",
      "Acurácia:  0.9906759906759907\n",
      "Acurácia:  0.9906759906759907\n",
      "Acurácia:  0.9906759906759907\n",
      "Acurácia:  0.9906759906759907\n",
      "Acurácia:  0.9906759906759907\n",
      "Acurácia:  0.9906759906759907\n",
      "Acurácia:  0.9906759906759907\n",
      "Acurácia:  0.9906759906759907\n",
      "Acurácia:  0.9906759906759907\n",
      "Acurácia:  0.9906759906759907\n",
      "Acurácia:  0.9906759906759907\n",
      "Acurácia:  0.9906759906759907\n",
      "Acurácia:  0.9906759906759907\n",
      "Acurácia:  0.9906759906759907\n",
      "Acurácia:  0.9906759906759907\n",
      "Acurácia:  0.9906759906759907\n",
      "Acurácia:  0.9906759906759907\n",
      "Acurácia:  0.9906759906759907\n",
      "Acurácia:  0.9906759906759907\n",
      "Acurácia:  0.9906759906759907\n",
      "Acurácia:  0.9906759906759907\n",
      "Acurácia:  0.9906759906759907\n",
      "Acurácia:  0.9906759906759907\n",
      "Acurácia:  0.9906759906759907\n",
      "Acurácia:  0.9906759906759907\n",
      "Acurácia:  0.9906759906759907\n",
      "Acurácia:  0.9906759906759907\n",
      "Acurácia:  0.9906759906759907\n",
      "Acurácia:  0.9906759906759907\n",
      "Acurácia:  0.9906759906759907\n",
      "Acurácia:  0.9906759906759907\n",
      "Acurácia:  0.9906759906759907\n",
      "Acurácia:  0.9906759906759907\n",
      "Acurácia:  0.9906759906759907\n",
      "Acurácia:  0.9906759906759907\n",
      "Acurácia:  0.9906759906759907\n",
      "Acurácia:  0.9906759906759907\n",
      "Acurácia:  0.9906759906759907\n",
      "Acurácia:  0.9906759906759907\n",
      "Acurácia:  0.9906759906759907\n",
      "Acurácia:  0.9906759906759907\n",
      "Acurácia:  0.9906759906759907\n",
      "Acurácia:  0.9906759906759907\n",
      "Acurácia:  0.9906759906759907\n",
      "Acurácia:  0.9906759906759907\n",
      "Acurácia:  0.9906759906759907\n",
      "Acurácia:  0.9906759906759907\n",
      "Acurácia:  0.9906759906759907\n",
      "Acurácia:  0.9906759906759907\n",
      "Acurácia:  0.9906759906759907\n",
      "Acurácia:  0.9906759906759907\n",
      "Acurácia:  0.9906759906759907\n",
      "Acurácia:  0.9906759906759907\n",
      "Acurácia:  0.9906759906759907\n",
      "Acurácia:  0.9906759906759907\n",
      "Acurácia:  0.9906759906759907\n",
      "Acurácia:  0.9906759906759907\n",
      "Acurácia:  0.9906759906759907\n",
      "Acurácia:  0.9906759906759907\n",
      "Acurácia:  0.9906759906759907\n",
      "Acurácia:  0.9906759906759907\n",
      "Acurácia:  0.9906759906759907\n",
      "Acurácia:  0.9906759906759907\n",
      "Acurácia:  0.9906759906759907\n",
      "Acurácia:  0.9906759906759907\n",
      "Acurácia:  0.9906759906759907\n",
      "Acurácia:  0.9906759906759907\n",
      "Acurácia:  0.9906759906759907\n",
      "Acurácia:  0.9906759906759907\n",
      "Acurácia:  0.9906759906759907\n",
      "Acurácia:  0.9906759906759907\n",
      "Acurácia:  0.9906759906759907\n",
      "Acurácia:  0.9906759906759907\n",
      "Acurácia:  0.9906759906759907\n",
      "Acurácia:  0.9906759906759907\n",
      "Acurácia:  0.9906759906759907\n",
      "Acurácia:  0.9906759906759907\n",
      "Acurácia:  0.9906759906759907\n"
     ]
    }
   ],
   "source": [
    "#Criação do modelo para aplicação do LogisticRegression\n",
    "for i in range(100):\n",
    "    modelo = LogisticRegression(max_iter=10000, penalty='none', solver='lbfgs')\n",
    "    modelo.fit(x_treino, y_treino)\n",
    "\n",
    "    #Impressão dos resultados\n",
    "    resultado = modelo.score(x_teste, y_teste)\n",
    "    print(\"Acurácia: \", resultado)"
   ]
  },
  {
   "cell_type": "code",
   "execution_count": 11,
   "metadata": {},
   "outputs": [
    {
     "data": {
      "text/plain": [
       "0.9947150735294118"
      ]
     },
     "execution_count": 11,
     "metadata": {},
     "output_type": "execute_result"
    }
   ],
   "source": [
    "#Determinando a acurácia na amostra de treino\n",
    "score_treino = modelo.score(x_treino, y_treino)\n",
    "score_treino"
   ]
  },
  {
   "cell_type": "code",
   "execution_count": 12,
   "metadata": {},
   "outputs": [
    {
     "data": {
      "text/plain": [
       "0.9906759906759907"
      ]
     },
     "execution_count": 12,
     "metadata": {},
     "output_type": "execute_result"
    }
   ],
   "source": [
    "#Realizando previsão na amostra de teste\n",
    "y_previsto = modelo.predict(x_teste)\n",
    "score_teste = modelo.score(x_teste, y_teste)\n",
    "score_teste"
   ]
  },
  {
   "cell_type": "code",
   "execution_count": 13,
   "metadata": {},
   "outputs": [
    {
     "data": {
      "text/plain": [
       "array([[ 546,   11],\n",
       "       [   9, 1579]], dtype=int64)"
      ]
     },
     "execution_count": 13,
     "metadata": {},
     "output_type": "execute_result"
    }
   ],
   "source": [
    "#Gerando Matriz de Confusão\n",
    "cm = confusion_matrix(y_teste, y_previsto)\n",
    "cm"
   ]
  },
  {
   "cell_type": "code",
   "execution_count": 14,
   "metadata": {},
   "outputs": [
    {
     "data": {
      "image/png": "[encoded data removed]",
      "text/plain": [
       "<Figure size 640x480 with 2 Axes>"
      ]
     },
     "metadata": {},
     "output_type": "display_data"
    }
   ],
   "source": [
    "#Mapa de calor da Matriz de Confusão\n",
    "sns.heatmap(cm, annot=True, fmt=\"d\")\n",
    "plt.title('Matriz de Confusão', weight='bold')\n",
    "plt.xlabel('Valores Previstos')\n",
    "plt.ylabel('Valores Reais')\n",
    "plt.show()"
   ]
  },
  {
   "cell_type": "code",
   "execution_count": null,
   "metadata": {},
   "outputs": [],
   "source": []
  }
 ],
 "metadata": {
  "colab": {
   "provenance": []
  },
  "kernelspec": {
   "display_name": "Python 3 (ipykernel)",
   "language": "python",
   "name": "python3"
  },
  "language_info": {
   "codemirror_mode": {
    "name": "ipython",
    "version": 3
   },
   "file_extension": ".py",
   "mimetype": "text/x-python",
   "name": "python",
   "nbconvert_exporter": "python",
   "pygments_lexer": "ipython3",
   "version": "3.9.13"
  }
 },
 "nbformat": 4,
 "nbformat_minor": 1
}
