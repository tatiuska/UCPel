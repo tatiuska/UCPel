{
 "cells": [
  {
   "cell_type": "code",
   "execution_count": 1,
   "id": "5abb4b7d",
   "metadata": {},
   "outputs": [],
   "source": [
    "# Modelo de AM para aplicação do algoritmo DecisionTreeClassifier\n",
    "# Importando bibliotecas\n",
    "import numpy as np\n",
    "import matplotlib.pyplot as plt\n",
    "import pandas as pd\n",
    "import seaborn as sns\n",
    "%matplotlib inline\n",
    "\n",
    "import statsmodels.api as sm\n",
    "import statsmodels.formula.api as smf\n",
    "from sklearn.tree import DecisionTreeClassifier\n",
    "from sklearn.metrics import classification_report, confusion_matrix"
   ]
  },
  {
   "cell_type": "code",
   "execution_count": 2,
   "id": "2884f652",
   "metadata": {},
   "outputs": [],
   "source": [
    "# Carregamento do banco de dados\n",
    "arquivo = pd.read_csv('C:/UCPEL/IA-ML/EEG_Eye_State_Classification.csv')"
   ]
  },
  {
   "cell_type": "code",
   "execution_count": 25,
   "id": "ac7da7d5",
   "metadata": {},
   "outputs": [
    {
     "data": {
      "text/html": [
       "<div>\n",
       "<style scoped>\n",
       "    .dataframe tbody tr th:only-of-type {\n",
       "        vertical-align: middle;\n",
       "    }\n",
       "\n",
       "    .dataframe tbody tr th {\n",
       "        vertical-align: top;\n",
       "    }\n",
       "\n",
       "    .dataframe thead th {\n",
       "        text-align: right;\n",
       "    }\n",
       "</style>\n",
       "<table border=\"1\" class=\"dataframe\">\n",
       "  <thead>\n",
       "    <tr style=\"text-align: right;\">\n",
       "      <th></th>\n",
       "      <th>AF3</th>\n",
       "      <th>F7</th>\n",
       "      <th>F3</th>\n",
       "      <th>FC5</th>\n",
       "      <th>T7</th>\n",
       "      <th>P7</th>\n",
       "      <th>O1</th>\n",
       "      <th>O2</th>\n",
       "      <th>P8</th>\n",
       "      <th>T8</th>\n",
       "      <th>FC6</th>\n",
       "      <th>F4</th>\n",
       "      <th>F8</th>\n",
       "      <th>AF4</th>\n",
       "      <th>eyeDetection</th>\n",
       "    </tr>\n",
       "  </thead>\n",
       "  <tbody>\n",
       "    <tr>\n",
       "      <th>0</th>\n",
       "      <td>4329.23</td>\n",
       "      <td>4009.23</td>\n",
       "      <td>4289.23</td>\n",
       "      <td>4148.21</td>\n",
       "      <td>4350.26</td>\n",
       "      <td>4586.15</td>\n",
       "      <td>4096.92</td>\n",
       "      <td>4641.03</td>\n",
       "      <td>4222.05</td>\n",
       "      <td>4238.46</td>\n",
       "      <td>4211.28</td>\n",
       "      <td>4280.51</td>\n",
       "      <td>4635.9000</td>\n",
       "      <td>4393.85</td>\n",
       "      <td>0</td>\n",
       "    </tr>\n",
       "    <tr>\n",
       "      <th>1</th>\n",
       "      <td>4324.62</td>\n",
       "      <td>4004.62</td>\n",
       "      <td>4293.85</td>\n",
       "      <td>4148.72</td>\n",
       "      <td>4342.05</td>\n",
       "      <td>4586.67</td>\n",
       "      <td>4097.44</td>\n",
       "      <td>4638.97</td>\n",
       "      <td>4210.77</td>\n",
       "      <td>4226.67</td>\n",
       "      <td>4207.69</td>\n",
       "      <td>4279.49</td>\n",
       "      <td>4632.8200</td>\n",
       "      <td>4384.10</td>\n",
       "      <td>0</td>\n",
       "    </tr>\n",
       "    <tr>\n",
       "      <th>2</th>\n",
       "      <td>4327.69</td>\n",
       "      <td>4006.67</td>\n",
       "      <td>4295.38</td>\n",
       "      <td>4156.41</td>\n",
       "      <td>4336.92</td>\n",
       "      <td>4583.59</td>\n",
       "      <td>4096.92</td>\n",
       "      <td>4630.26</td>\n",
       "      <td>4207.69</td>\n",
       "      <td>4222.05</td>\n",
       "      <td>4206.67</td>\n",
       "      <td>4282.05</td>\n",
       "      <td>4628.7200</td>\n",
       "      <td>4389.23</td>\n",
       "      <td>0</td>\n",
       "    </tr>\n",
       "    <tr>\n",
       "      <th>3</th>\n",
       "      <td>4328.72</td>\n",
       "      <td>4011.79</td>\n",
       "      <td>4296.41</td>\n",
       "      <td>4155.90</td>\n",
       "      <td>4343.59</td>\n",
       "      <td>4582.56</td>\n",
       "      <td>4097.44</td>\n",
       "      <td>4630.77</td>\n",
       "      <td>4217.44</td>\n",
       "      <td>4235.38</td>\n",
       "      <td>4210.77</td>\n",
       "      <td>4287.69</td>\n",
       "      <td>4632.3100</td>\n",
       "      <td>4396.41</td>\n",
       "      <td>0</td>\n",
       "    </tr>\n",
       "    <tr>\n",
       "      <th>4</th>\n",
       "      <td>4326.15</td>\n",
       "      <td>4011.79</td>\n",
       "      <td>4292.31</td>\n",
       "      <td>4151.28</td>\n",
       "      <td>4347.69</td>\n",
       "      <td>4586.67</td>\n",
       "      <td>4095.90</td>\n",
       "      <td>4627.69</td>\n",
       "      <td>4210.77</td>\n",
       "      <td>4244.10</td>\n",
       "      <td>4212.82</td>\n",
       "      <td>4288.21</td>\n",
       "      <td>4632.8200</td>\n",
       "      <td>4398.46</td>\n",
       "      <td>0</td>\n",
       "    </tr>\n",
       "    <tr>\n",
       "      <th>...</th>\n",
       "      <td>...</td>\n",
       "      <td>...</td>\n",
       "      <td>...</td>\n",
       "      <td>...</td>\n",
       "      <td>...</td>\n",
       "      <td>...</td>\n",
       "      <td>...</td>\n",
       "      <td>...</td>\n",
       "      <td>...</td>\n",
       "      <td>...</td>\n",
       "      <td>...</td>\n",
       "      <td>...</td>\n",
       "      <td>...</td>\n",
       "      <td>...</td>\n",
       "      <td>...</td>\n",
       "    </tr>\n",
       "    <tr>\n",
       "      <th>13175</th>\n",
       "      <td>4280.00</td>\n",
       "      <td>4007.69</td>\n",
       "      <td>4261.03</td>\n",
       "      <td>4107.69</td>\n",
       "      <td>4344.10</td>\n",
       "      <td>4615.90</td>\n",
       "      <td>4083.08</td>\n",
       "      <td>4631.28</td>\n",
       "      <td>4215.38</td>\n",
       "      <td>4240.00</td>\n",
       "      <td>4200.00</td>\n",
       "      <td>4278.97</td>\n",
       "      <td>4597.9500</td>\n",
       "      <td>4339.49</td>\n",
       "      <td>0</td>\n",
       "    </tr>\n",
       "    <tr>\n",
       "      <th>13176</th>\n",
       "      <td>4271.79</td>\n",
       "      <td>4006.67</td>\n",
       "      <td>4254.36</td>\n",
       "      <td>4109.74</td>\n",
       "      <td>4349.23</td>\n",
       "      <td>4621.03</td>\n",
       "      <td>4090.77</td>\n",
       "      <td>4629.23</td>\n",
       "      <td>4206.67</td>\n",
       "      <td>4236.92</td>\n",
       "      <td>4194.36</td>\n",
       "      <td>4270.26</td>\n",
       "      <td>4593.3300</td>\n",
       "      <td>4333.33</td>\n",
       "      <td>0</td>\n",
       "    </tr>\n",
       "    <tr>\n",
       "      <th>13177</th>\n",
       "      <td>4270.77</td>\n",
       "      <td>4011.79</td>\n",
       "      <td>4250.26</td>\n",
       "      <td>4116.92</td>\n",
       "      <td>4347.69</td>\n",
       "      <td>4624.10</td>\n",
       "      <td>4092.82</td>\n",
       "      <td>4628.21</td>\n",
       "      <td>4206.67</td>\n",
       "      <td>4228.72</td>\n",
       "      <td>4189.23</td>\n",
       "      <td>4262.05</td>\n",
       "      <td>4586.6700</td>\n",
       "      <td>4329.74</td>\n",
       "      <td>0</td>\n",
       "    </tr>\n",
       "    <tr>\n",
       "      <th>13178</th>\n",
       "      <td>4276.92</td>\n",
       "      <td>4013.85</td>\n",
       "      <td>4256.41</td>\n",
       "      <td>4115.90</td>\n",
       "      <td>4344.62</td>\n",
       "      <td>4618.97</td>\n",
       "      <td>4088.21</td>\n",
       "      <td>4628.21</td>\n",
       "      <td>4213.33</td>\n",
       "      <td>4226.67</td>\n",
       "      <td>4190.77</td>\n",
       "      <td>4264.10</td>\n",
       "      <td>4584.6200</td>\n",
       "      <td>4335.38</td>\n",
       "      <td>0</td>\n",
       "    </tr>\n",
       "    <tr>\n",
       "      <th>13179</th>\n",
       "      <td>1030.77</td>\n",
       "      <td>7804.62</td>\n",
       "      <td>5762.56</td>\n",
       "      <td>2453.33</td>\n",
       "      <td>2089.74</td>\n",
       "      <td>2768.21</td>\n",
       "      <td>3581.54</td>\n",
       "      <td>7264.10</td>\n",
       "      <td>4586.15</td>\n",
       "      <td>6674.36</td>\n",
       "      <td>5170.77</td>\n",
       "      <td>7002.56</td>\n",
       "      <td>86.6667</td>\n",
       "      <td>1366.15</td>\n",
       "      <td>0</td>\n",
       "    </tr>\n",
       "  </tbody>\n",
       "</table>\n",
       "<p>13180 rows × 15 columns</p>\n",
       "</div>"
      ],
      "text/plain": [
       "           AF3       F7       F3      FC5       T7       P7       O1       O2  \\\n",
       "0      4329.23  4009.23  4289.23  4148.21  4350.26  4586.15  4096.92  4641.03   \n",
       "1      4324.62  4004.62  4293.85  4148.72  4342.05  4586.67  4097.44  4638.97   \n",
       "2      4327.69  4006.67  4295.38  4156.41  4336.92  4583.59  4096.92  4630.26   \n",
       "3      4328.72  4011.79  4296.41  4155.90  4343.59  4582.56  4097.44  4630.77   \n",
       "4      4326.15  4011.79  4292.31  4151.28  4347.69  4586.67  4095.90  4627.69   \n",
       "...        ...      ...      ...      ...      ...      ...      ...      ...   \n",
       "13175  4280.00  4007.69  4261.03  4107.69  4344.10  4615.90  4083.08  4631.28   \n",
       "13176  4271.79  4006.67  4254.36  4109.74  4349.23  4621.03  4090.77  4629.23   \n",
       "13177  4270.77  4011.79  4250.26  4116.92  4347.69  4624.10  4092.82  4628.21   \n",
       "13178  4276.92  4013.85  4256.41  4115.90  4344.62  4618.97  4088.21  4628.21   \n",
       "13179  1030.77  7804.62  5762.56  2453.33  2089.74  2768.21  3581.54  7264.10   \n",
       "\n",
       "            P8       T8      FC6       F4         F8      AF4  eyeDetection  \n",
       "0      4222.05  4238.46  4211.28  4280.51  4635.9000  4393.85             0  \n",
       "1      4210.77  4226.67  4207.69  4279.49  4632.8200  4384.10             0  \n",
       "2      4207.69  4222.05  4206.67  4282.05  4628.7200  4389.23             0  \n",
       "3      4217.44  4235.38  4210.77  4287.69  4632.3100  4396.41             0  \n",
       "4      4210.77  4244.10  4212.82  4288.21  4632.8200  4398.46             0  \n",
       "...        ...      ...      ...      ...        ...      ...           ...  \n",
       "13175  4215.38  4240.00  4200.00  4278.97  4597.9500  4339.49             0  \n",
       "13176  4206.67  4236.92  4194.36  4270.26  4593.3300  4333.33             0  \n",
       "13177  4206.67  4228.72  4189.23  4262.05  4586.6700  4329.74             0  \n",
       "13178  4213.33  4226.67  4190.77  4264.10  4584.6200  4335.38             0  \n",
       "13179  4586.15  6674.36  5170.77  7002.56    86.6667  1366.15             0  \n",
       "\n",
       "[13180 rows x 15 columns]"
      ]
     },
     "execution_count": 25,
     "metadata": {},
     "output_type": "execute_result"
    }
   ],
   "source": [
    "# Visualização do conjunto de dados\n",
    "arquivo.head(13180)"
   ]
  },
  {
   "cell_type": "code",
   "execution_count": 4,
   "id": "cc8608eb",
   "metadata": {},
   "outputs": [
    {
     "data": {
      "text/plain": [
       "(14980, 15)"
      ]
     },
     "execution_count": 4,
     "metadata": {},
     "output_type": "execute_result"
    }
   ],
   "source": [
    "# Visualização do tamanho do banco de dados\n",
    "arquivo.shape"
   ]
  },
  {
   "cell_type": "code",
   "execution_count": 10,
   "id": "bdef325e",
   "metadata": {},
   "outputs": [
    {
     "data": {
      "image/png": "[encoded data removed]",
      "text/plain": [
       "<Figure size 640x480 with 1 Axes>"
      ]
     },
     "metadata": {},
     "output_type": "display_data"
    }
   ],
   "source": [
    "# Boxplot do Matplotlib\n",
    "arquivo.boxplot(column=['AF3', 'F7', 'F3', 'FC5', 'T7', 'P7', 'O1', 'O2', 'P8', 'T8', 'FC6', 'F4', 'F8', 'AF4'])\n",
    "plt.show()"
   ]
  },
  {
   "cell_type": "code",
   "execution_count": 27,
   "id": "164129c5",
   "metadata": {},
   "outputs": [
    {
     "name": "stderr",
     "output_type": "stream",
     "text": [
      "C:\\Users\\tfwes\\anaconda3\\lib\\site-packages\\seaborn\\_decorators.py:36: FutureWarning: Pass the following variable as a keyword arg: x. From version 0.12, the only valid positional argument will be `data`, and passing other arguments without an explicit keyword will result in an error or misinterpretation.\n",
      "  warnings.warn(\n"
     ]
    },
    {
     "data": {
      "text/plain": [
       "<AxesSubplot:xlabel='F3'>"
      ]
     },
     "execution_count": 27,
     "metadata": {},
     "output_type": "execute_result"
    },
    {
     "data": {
      "image/png": "[encoded data removed]",
      "text/plain": [
       "<Figure size 640x480 with 1 Axes>"
      ]
     },
     "metadata": {},
     "output_type": "display_data"
    }
   ],
   "source": [
    "# Boxplot da biblioteca Seaborn (Atributo F3)\n",
    "sns.boxplot(arquivo['F3'])"
   ]
  },
  {
   "cell_type": "code",
   "execution_count": 19,
   "id": "19557048",
   "metadata": {},
   "outputs": [
    {
     "name": "stdout",
     "output_type": "stream",
     "text": [
      "(array([  898, 10386], dtype=int64),)\n",
      "(array([11509, 13179], dtype=int64),)\n"
     ]
    }
   ],
   "source": [
    "# Posição dos Outliers (Atributo F3)\n",
    "print(np.where(arquivo['F3']<4000))\n",
    "print(np.where(arquivo['F3']>5000))"
   ]
  },
  {
   "cell_type": "code",
   "execution_count": 28,
   "id": "25a6e8a7",
   "metadata": {},
   "outputs": [
    {
     "name": "stderr",
     "output_type": "stream",
     "text": [
      "C:\\Users\\tfwes\\anaconda3\\lib\\site-packages\\seaborn\\_decorators.py:36: FutureWarning: Pass the following variable as a keyword arg: x. From version 0.12, the only valid positional argument will be `data`, and passing other arguments without an explicit keyword will result in an error or misinterpretation.\n",
      "  warnings.warn(\n"
     ]
    },
    {
     "data": {
      "text/plain": [
       "<AxesSubplot:xlabel='AF4'>"
      ]
     },
     "execution_count": 28,
     "metadata": {},
     "output_type": "execute_result"
    },
    {
     "data": {
      "image/png": "[encoded data removed]",
      "text/plain": [
       "<Figure size 640x480 with 1 Axes>"
      ]
     },
     "metadata": {},
     "output_type": "display_data"
    }
   ],
   "source": [
    "# Boxplot da biblioteca Seaborn (Atributo AF4)\n",
    "sns.boxplot(arquivo['AF4'])"
   ]
  },
  {
   "cell_type": "code",
   "execution_count": 31,
   "id": "e3a1a7c2",
   "metadata": {},
   "outputs": [
    {
     "name": "stdout",
     "output_type": "stream",
     "text": [
      "(array([  898, 10386, 11509], dtype=int64),)\n",
      "(array([13179], dtype=int64),)\n"
     ]
    }
   ],
   "source": [
    "# Posição dos Outliers (Atributo F4)\n",
    "print(np.where(arquivo['AF4']>5000))\n",
    "print(np.where(arquivo['AF4']<4000))"
   ]
  },
  {
   "cell_type": "code",
   "execution_count": null,
   "id": "7f7b4de9",
   "metadata": {},
   "outputs": [],
   "source": [
    "# Matriz de correlação (Biblioteca Seaborn), com os dados de correlação nas células\n",
    "sns.set(font_scale=1)\n",
    "plt.figure (figsize = (18, 6))\n",
    "cmap = sns.diverging_palette(160, 140, sep=10, as_cmap=True)\n",
    "heatmap = sns.heatmap(arquivo.corr(), cmap=cmap, annot=True, vmin=-1, vmax=1,fmt=\".2f\", annot_kws={'size':10})\n",
    "heatmap.set_title('Correlation Heatmap', fontdict={'fontsize':10}, pad=14);"
   ]
  },
  {
   "cell_type": "code",
   "execution_count": null,
   "id": "293d9836",
   "metadata": {},
   "outputs": [],
   "source": [
    "# Separação das variáveis preditoras (características) e da variável-alvo (desfecho)\n",
    "y = arquivo['eyeDetection']\n",
    "x = arquivo.drop('eyeDetection', axis = 1)"
   ]
  },
  {
   "cell_type": "code",
   "execution_count": null,
   "id": "18b75d26",
   "metadata": {},
   "outputs": [],
   "source": [
    "# Criação dos conjuntos de treino e teste\n",
    "from sklearn.model_selection import train_test_split\n",
    "\n",
    "x_treino, x_teste, y_treino, y_teste = train_test_split(x, y, test_size = 0.3, random_state = 0)"
   ]
  },
  {
   "cell_type": "code",
   "execution_count": null,
   "id": "a40b7157",
   "metadata": {},
   "outputs": [],
   "source": [
    "# Quantidade de dados para treino\n",
    "x_treino.shape"
   ]
  },
  {
   "cell_type": "code",
   "execution_count": null,
   "id": "e71195e2",
   "metadata": {},
   "outputs": [],
   "source": [
    "# Quantidade de dados para teste\n",
    "x_teste.shape"
   ]
  },
  {
   "cell_type": "code",
   "execution_count": null,
   "id": "b802f7c3",
   "metadata": {},
   "outputs": [],
   "source": [
    "# Criação do modelo\n",
    "for i in range(100):\n",
    "    modelo = DecisionTreeClassifier()\n",
    "    modelo.fit(x_treino, y_treino)\n",
    "    \n",
    "    #Imprimindo resultados\n",
    "    resultado = modelo.score(x_teste, y_teste)\n",
    "    print(\"Acurácia\", resultado)"
   ]
  },
  {
   "cell_type": "code",
   "execution_count": null,
   "id": "cf26cdbd",
   "metadata": {},
   "outputs": [],
   "source": [
    "# Determinando a acurácia na amostra de treino\n",
    "score_treino = modelo.score(x_treino, y_treino)\n",
    "score_treino"
   ]
  },
  {
   "cell_type": "code",
   "execution_count": null,
   "id": "41270e6b",
   "metadata": {},
   "outputs": [],
   "source": [
    "# Realizando previsão na amostra de teste\n",
    "y_previsto = modelo.predict(x_teste)\n",
    "score_teste = modelo.score(x_teste, y_teste)\n",
    "score_teste"
   ]
  },
  {
   "cell_type": "code",
   "execution_count": null,
   "id": "a2532254",
   "metadata": {},
   "outputs": [],
   "source": [
    "# Gerando Matriz de Confusão\n",
    "cm = confusion_matrix(y_teste, y_previsto)\n",
    "cm"
   ]
  },
  {
   "cell_type": "code",
   "execution_count": null,
   "id": "f948beef",
   "metadata": {},
   "outputs": [],
   "source": [
    "# Mapa de calor da Matriz de Confusão\n",
    "sns.heatmap(cm, annot=True, fmt=\"d\")\n",
    "plt.title('Matriz de Confusão', weight='bold')\n",
    "plt.xlabel('Valores Previstos')\n",
    "plt.ylabel('Valores Reais')\n",
    "plt.show()"
   ]
  },
  {
   "cell_type": "code",
   "execution_count": null,
   "id": "98ed39fc",
   "metadata": {},
   "outputs": [],
   "source": []
  }
 ],
 "metadata": {
  "kernelspec": {
   "display_name": "Python 3 (ipykernel)",
   "language": "python",
   "name": "python3"
  },
  "language_info": {
   "codemirror_mode": {
    "name": "ipython",
    "version": 3
   },
   "file_extension": ".py",
   "mimetype": "text/x-python",
   "name": "python",
   "nbconvert_exporter": "python",
   "pygments_lexer": "ipython3",
   "version": "3.9.13"
  }
 },
 "nbformat": 4,
 "nbformat_minor": 5
}
