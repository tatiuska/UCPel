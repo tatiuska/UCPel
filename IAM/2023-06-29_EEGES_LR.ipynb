{
 "cells": [
  {
   "cell_type": "code",
   "execution_count": null,
   "id": "b2dc44ce",
   "metadata": {},
   "outputs": [],
   "source": [
    "# Modelo de AM para aplicação do algoritmo LogisticRegression\n",
    "# Importando bibliotecas\n",
    "import numpy as np\n",
    "import matplotlib.pyplot as plt\n",
    "import seaborn as sns\n",
    "\n",
    "from sklearn.linear_model import LogisticRegression\n",
    "from sklearn.metrics import confusion_matrix"
   ]
  },
  {
   "cell_type": "code",
   "execution_count": null,
   "id": "27ccb616",
   "metadata": {},
   "outputs": [],
   "source": [
    "# Carregamento do banco de dados\n",
    "import pandas as pd \n",
    "arquivo = pd.read_csv('C:/UCPEL/IA-ML/EEG_Eye_State_Classification.csv')"
   ]
  },
  {
   "cell_type": "code",
   "execution_count": null,
   "id": "e594a3d2",
   "metadata": {},
   "outputs": [],
   "source": [
    "# Visualização do conjunto de dados (cinco primeiras amostras)\n",
    "arquivo.head()"
   ]
  },
  {
   "cell_type": "code",
   "execution_count": null,
   "id": "4e0eeaf0",
   "metadata": {},
   "outputs": [],
   "source": [
    "# Visualização do tamanho do banco de dados\n",
    "arquivo.shape"
   ]
  },
  {
   "cell_type": "code",
   "execution_count": null,
   "id": "def87125",
   "metadata": {},
   "outputs": [],
   "source": [
    "# Matriz de correlação (Biblioteca Seaborn), com os dados de correlação nas células\n",
    "sns.set(font_scale=1)\n",
    "plt.figure (figsize = (18, 6))\n",
    "cmap = sns.diverging_palette(160, 140, sep=10, as_cmap=True)\n",
    "heatmap = sns.heatmap(arquivo.corr(), cmap=cmap, annot=True, vmin=-1, vmax=1,fmt=\".2f\", annot_kws={'size':10})\n",
    "heatmap.set_title('Correlation Heatmap', fontdict={'fontsize':10}, pad=14);"
   ]
  },
  {
   "cell_type": "code",
   "execution_count": null,
   "id": "e0c27402",
   "metadata": {},
   "outputs": [],
   "source": [
    "# Separação das variáveis preditoras (características) e da variável alvo (desfecho)\n",
    "y = arquivo['eyeDetection']\n",
    "x = arquivo.drop('eyeDetection', axis = 1)"
   ]
  },
  {
   "cell_type": "code",
   "execution_count": null,
   "id": "68231a41",
   "metadata": {},
   "outputs": [],
   "source": [
    "# Criação dos conjuntos de treino e teste (aleatório)\n",
    "from sklearn.model_selection import train_test_split\n",
    "\n",
    "x_treino, x_teste, y_treino, y_teste = train_test_split(x, y, test_size = 0.33, random_state = 42)"
   ]
  },
  {
   "cell_type": "code",
   "execution_count": null,
   "id": "7346b359",
   "metadata": {},
   "outputs": [],
   "source": [
    "# Quantidade de dados para treino\n",
    "x_treino.shape"
   ]
  },
  {
   "cell_type": "code",
   "execution_count": null,
   "id": "d06d46b1",
   "metadata": {},
   "outputs": [],
   "source": [
    "# Quantidade de dados para teste\n",
    "x_teste.shape"
   ]
  },
  {
   "cell_type": "code",
   "execution_count": null,
   "id": "c03aa92a",
   "metadata": {},
   "outputs": [],
   "source": [
    "# Criação do modelo para aplicação do LogisticRegression\n",
    "for i in range(100):\n",
    "    modelo = LogisticRegression(max_iter=10000, penalty='none', solver='lbfgs')\n",
    "    modelo.fit(x_treino, y_treino)\n",
    "\n",
    "    #Impressão dos resultados\n",
    "    resultado = modelo.score(x_teste, y_teste)\n",
    "    print(\"Acurácia: \", resultado)"
   ]
  },
  {
   "cell_type": "code",
   "execution_count": null,
   "id": "ed6dfa07",
   "metadata": {},
   "outputs": [],
   "source": [
    "# Determinando a acurácia na amostra de treino\n",
    "score_treino = modelo.score(x_treino, y_treino)\n",
    "score_treino"
   ]
  },
  {
   "cell_type": "code",
   "execution_count": null,
   "id": "59381238",
   "metadata": {},
   "outputs": [],
   "source": [
    "# Realizando previsão na amostra de teste\n",
    "y_previsto = modelo.predict(x_teste)\n",
    "score_teste = modelo.score(x_teste, y_teste)\n",
    "score_teste"
   ]
  },
  {
   "cell_type": "code",
   "execution_count": null,
   "id": "9fd1c159",
   "metadata": {},
   "outputs": [],
   "source": [
    "# Gerando Matriz de Confusão\n",
    "cm = confusion_matrix(y_teste, y_previsto)\n",
    "cm"
   ]
  },
  {
   "cell_type": "code",
   "execution_count": null,
   "id": "8793d702",
   "metadata": {},
   "outputs": [],
   "source": [
    "# Mapa de calor da Matriz de Confusão\n",
    "sns.heatmap(cm, annot=True, fmt=\"d\")\n",
    "plt.title('Matriz de Confusão', weight='bold')\n",
    "plt.xlabel('Valores Previstos')\n",
    "plt.ylabel('Valores Reais')\n",
    "plt.show()"
   ]
  },
  {
   "cell_type": "code",
   "execution_count": null,
   "id": "cc61abe3",
   "metadata": {},
   "outputs": [],
   "source": []
  }
 ],
 "metadata": {
  "kernelspec": {
   "display_name": "Python 3 (ipykernel)",
   "language": "python",
   "name": "python3"
  },
  "language_info": {
   "codemirror_mode": {
    "name": "ipython",
    "version": 3
   },
   "file_extension": ".py",
   "mimetype": "text/x-python",
   "name": "python",
   "nbconvert_exporter": "python",
   "pygments_lexer": "ipython3",
   "version": "3.9.13"
  }
 },
 "nbformat": 4,
 "nbformat_minor": 5
}
