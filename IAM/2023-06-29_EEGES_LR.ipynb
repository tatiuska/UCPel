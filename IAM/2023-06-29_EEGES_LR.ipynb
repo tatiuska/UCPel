{
 "cells": [
  {
   "cell_type": "code",
   "execution_count": 1,
   "id": "b2dc44ce",
   "metadata": {},
   "outputs": [],
   "source": [
    "# Modelo de AM para aplicação do algoritmo LogisticRegression\n",
    "# Importando bibliotecas\n",
    "import numpy as np\n",
    "import matplotlib.pyplot as plt\n",
    "import seaborn as sns\n",
    "\n",
    "from sklearn.linear_model import LogisticRegression\n",
    "from sklearn.metrics import confusion_matrix"
   ]
  },
  {
   "cell_type": "code",
   "execution_count": 2,
   "id": "27ccb616",
   "metadata": {},
   "outputs": [],
   "source": [
    "# Carregamento do banco de dados\n",
    "import pandas as pd \n",
    "arquivo = pd.read_csv('C:/UCPEL/IA-ML/EEG_Eye_State_Classification.csv')"
   ]
  },
  {
   "cell_type": "code",
   "execution_count": 3,
   "id": "e594a3d2",
   "metadata": {},
   "outputs": [
    {
     "data": {
      "text/html": [
       "<div>\n",
       "<style scoped>\n",
       "    .dataframe tbody tr th:only-of-type {\n",
       "        vertical-align: middle;\n",
       "    }\n",
       "\n",
       "    .dataframe tbody tr th {\n",
       "        vertical-align: top;\n",
       "    }\n",
       "\n",
       "    .dataframe thead th {\n",
       "        text-align: right;\n",
       "    }\n",
       "</style>\n",
       "<table border=\"1\" class=\"dataframe\">\n",
       "  <thead>\n",
       "    <tr style=\"text-align: right;\">\n",
       "      <th></th>\n",
       "      <th>AF3</th>\n",
       "      <th>F7</th>\n",
       "      <th>F3</th>\n",
       "      <th>FC5</th>\n",
       "      <th>T7</th>\n",
       "      <th>P7</th>\n",
       "      <th>O1</th>\n",
       "      <th>O2</th>\n",
       "      <th>P8</th>\n",
       "      <th>T8</th>\n",
       "      <th>FC6</th>\n",
       "      <th>F4</th>\n",
       "      <th>F8</th>\n",
       "      <th>AF4</th>\n",
       "      <th>eyeDetection</th>\n",
       "    </tr>\n",
       "  </thead>\n",
       "  <tbody>\n",
       "    <tr>\n",
       "      <th>0</th>\n",
       "      <td>4329.23</td>\n",
       "      <td>4009.23</td>\n",
       "      <td>4289.23</td>\n",
       "      <td>4148.21</td>\n",
       "      <td>4350.26</td>\n",
       "      <td>4586.15</td>\n",
       "      <td>4096.92</td>\n",
       "      <td>4641.03</td>\n",
       "      <td>4222.05</td>\n",
       "      <td>4238.46</td>\n",
       "      <td>4211.28</td>\n",
       "      <td>4280.51</td>\n",
       "      <td>4635.90</td>\n",
       "      <td>4393.85</td>\n",
       "      <td>0</td>\n",
       "    </tr>\n",
       "    <tr>\n",
       "      <th>1</th>\n",
       "      <td>4324.62</td>\n",
       "      <td>4004.62</td>\n",
       "      <td>4293.85</td>\n",
       "      <td>4148.72</td>\n",
       "      <td>4342.05</td>\n",
       "      <td>4586.67</td>\n",
       "      <td>4097.44</td>\n",
       "      <td>4638.97</td>\n",
       "      <td>4210.77</td>\n",
       "      <td>4226.67</td>\n",
       "      <td>4207.69</td>\n",
       "      <td>4279.49</td>\n",
       "      <td>4632.82</td>\n",
       "      <td>4384.10</td>\n",
       "      <td>0</td>\n",
       "    </tr>\n",
       "    <tr>\n",
       "      <th>2</th>\n",
       "      <td>4327.69</td>\n",
       "      <td>4006.67</td>\n",
       "      <td>4295.38</td>\n",
       "      <td>4156.41</td>\n",
       "      <td>4336.92</td>\n",
       "      <td>4583.59</td>\n",
       "      <td>4096.92</td>\n",
       "      <td>4630.26</td>\n",
       "      <td>4207.69</td>\n",
       "      <td>4222.05</td>\n",
       "      <td>4206.67</td>\n",
       "      <td>4282.05</td>\n",
       "      <td>4628.72</td>\n",
       "      <td>4389.23</td>\n",
       "      <td>0</td>\n",
       "    </tr>\n",
       "    <tr>\n",
       "      <th>3</th>\n",
       "      <td>4328.72</td>\n",
       "      <td>4011.79</td>\n",
       "      <td>4296.41</td>\n",
       "      <td>4155.90</td>\n",
       "      <td>4343.59</td>\n",
       "      <td>4582.56</td>\n",
       "      <td>4097.44</td>\n",
       "      <td>4630.77</td>\n",
       "      <td>4217.44</td>\n",
       "      <td>4235.38</td>\n",
       "      <td>4210.77</td>\n",
       "      <td>4287.69</td>\n",
       "      <td>4632.31</td>\n",
       "      <td>4396.41</td>\n",
       "      <td>0</td>\n",
       "    </tr>\n",
       "    <tr>\n",
       "      <th>4</th>\n",
       "      <td>4326.15</td>\n",
       "      <td>4011.79</td>\n",
       "      <td>4292.31</td>\n",
       "      <td>4151.28</td>\n",
       "      <td>4347.69</td>\n",
       "      <td>4586.67</td>\n",
       "      <td>4095.90</td>\n",
       "      <td>4627.69</td>\n",
       "      <td>4210.77</td>\n",
       "      <td>4244.10</td>\n",
       "      <td>4212.82</td>\n",
       "      <td>4288.21</td>\n",
       "      <td>4632.82</td>\n",
       "      <td>4398.46</td>\n",
       "      <td>0</td>\n",
       "    </tr>\n",
       "  </tbody>\n",
       "</table>\n",
       "</div>"
      ],
      "text/plain": [
       "       AF3       F7       F3      FC5       T7       P7       O1       O2  \\\n",
       "0  4329.23  4009.23  4289.23  4148.21  4350.26  4586.15  4096.92  4641.03   \n",
       "1  4324.62  4004.62  4293.85  4148.72  4342.05  4586.67  4097.44  4638.97   \n",
       "2  4327.69  4006.67  4295.38  4156.41  4336.92  4583.59  4096.92  4630.26   \n",
       "3  4328.72  4011.79  4296.41  4155.90  4343.59  4582.56  4097.44  4630.77   \n",
       "4  4326.15  4011.79  4292.31  4151.28  4347.69  4586.67  4095.90  4627.69   \n",
       "\n",
       "        P8       T8      FC6       F4       F8      AF4  eyeDetection  \n",
       "0  4222.05  4238.46  4211.28  4280.51  4635.90  4393.85             0  \n",
       "1  4210.77  4226.67  4207.69  4279.49  4632.82  4384.10             0  \n",
       "2  4207.69  4222.05  4206.67  4282.05  4628.72  4389.23             0  \n",
       "3  4217.44  4235.38  4210.77  4287.69  4632.31  4396.41             0  \n",
       "4  4210.77  4244.10  4212.82  4288.21  4632.82  4398.46             0  "
      ]
     },
     "execution_count": 3,
     "metadata": {},
     "output_type": "execute_result"
    }
   ],
   "source": [
    "# Visualização do conjunto de dados (cinco primeiras amostras)\n",
    "arquivo.head()"
   ]
  },
  {
   "cell_type": "code",
   "execution_count": 4,
   "id": "4e0eeaf0",
   "metadata": {},
   "outputs": [
    {
     "data": {
      "text/plain": [
       "(14980, 15)"
      ]
     },
     "execution_count": 4,
     "metadata": {},
     "output_type": "execute_result"
    }
   ],
   "source": [
    "# Visualização do tamanho do banco de dados\n",
    "arquivo.shape"
   ]
  },
  {
   "cell_type": "code",
   "execution_count": 5,
   "id": "e0c27402",
   "metadata": {},
   "outputs": [],
   "source": [
    "# Separação das variáveis preditoras (características) e da variável alvo (desfecho)\n",
    "y = arquivo['eyeDetection']\n",
    "x = arquivo.drop('eyeDetection', axis = 1)"
   ]
  },
  {
   "cell_type": "code",
   "execution_count": 6,
   "id": "68231a41",
   "metadata": {},
   "outputs": [],
   "source": [
    "# Criação dos conjuntos de treino e teste (aleatório)\n",
    "from sklearn.model_selection import train_test_split\n",
    "\n",
    "x_treino, x_teste, y_treino, y_teste = train_test_split(x, y, test_size = 0.33, random_state = 42)"
   ]
  },
  {
   "cell_type": "code",
   "execution_count": 7,
   "id": "7346b359",
   "metadata": {},
   "outputs": [
    {
     "data": {
      "text/plain": [
       "(10036, 14)"
      ]
     },
     "execution_count": 7,
     "metadata": {},
     "output_type": "execute_result"
    }
   ],
   "source": [
    "# Quantidade de dados para treino\n",
    "x_treino.shape"
   ]
  },
  {
   "cell_type": "code",
   "execution_count": 8,
   "id": "d06d46b1",
   "metadata": {},
   "outputs": [
    {
     "data": {
      "text/plain": [
       "(4944, 14)"
      ]
     },
     "execution_count": 8,
     "metadata": {},
     "output_type": "execute_result"
    }
   ],
   "source": [
    "# Quantidade de dados para teste\n",
    "x_teste.shape"
   ]
  },
  {
   "cell_type": "code",
   "execution_count": 9,
   "id": "c03aa92a",
   "metadata": {},
   "outputs": [
    {
     "name": "stdout",
     "output_type": "stream",
     "text": [
      "Acurácia:  0.6314724919093851\n",
      "Acurácia:  0.6314724919093851\n",
      "Acurácia:  0.6314724919093851\n",
      "Acurácia:  0.6314724919093851\n",
      "Acurácia:  0.6314724919093851\n",
      "Acurácia:  0.6314724919093851\n",
      "Acurácia:  0.6314724919093851\n",
      "Acurácia:  0.6314724919093851\n",
      "Acurácia:  0.6314724919093851\n",
      "Acurácia:  0.6314724919093851\n",
      "Acurácia:  0.6314724919093851\n",
      "Acurácia:  0.6314724919093851\n",
      "Acurácia:  0.6314724919093851\n",
      "Acurácia:  0.6314724919093851\n",
      "Acurácia:  0.6314724919093851\n",
      "Acurácia:  0.6314724919093851\n",
      "Acurácia:  0.6314724919093851\n",
      "Acurácia:  0.6314724919093851\n",
      "Acurácia:  0.6314724919093851\n",
      "Acurácia:  0.6314724919093851\n",
      "Acurácia:  0.6314724919093851\n",
      "Acurácia:  0.6314724919093851\n",
      "Acurácia:  0.6314724919093851\n",
      "Acurácia:  0.6314724919093851\n",
      "Acurácia:  0.6314724919093851\n",
      "Acurácia:  0.6314724919093851\n",
      "Acurácia:  0.6314724919093851\n",
      "Acurácia:  0.6314724919093851\n",
      "Acurácia:  0.6314724919093851\n",
      "Acurácia:  0.6314724919093851\n",
      "Acurácia:  0.6314724919093851\n",
      "Acurácia:  0.6314724919093851\n",
      "Acurácia:  0.6314724919093851\n",
      "Acurácia:  0.6314724919093851\n",
      "Acurácia:  0.6314724919093851\n",
      "Acurácia:  0.6314724919093851\n",
      "Acurácia:  0.6314724919093851\n",
      "Acurácia:  0.6314724919093851\n",
      "Acurácia:  0.6314724919093851\n",
      "Acurácia:  0.6314724919093851\n",
      "Acurácia:  0.6314724919093851\n",
      "Acurácia:  0.6314724919093851\n",
      "Acurácia:  0.6314724919093851\n",
      "Acurácia:  0.6314724919093851\n",
      "Acurácia:  0.6314724919093851\n",
      "Acurácia:  0.6314724919093851\n",
      "Acurácia:  0.6314724919093851\n",
      "Acurácia:  0.6314724919093851\n",
      "Acurácia:  0.6314724919093851\n",
      "Acurácia:  0.6314724919093851\n",
      "Acurácia:  0.6314724919093851\n",
      "Acurácia:  0.6314724919093851\n",
      "Acurácia:  0.6314724919093851\n",
      "Acurácia:  0.6314724919093851\n",
      "Acurácia:  0.6314724919093851\n",
      "Acurácia:  0.6314724919093851\n",
      "Acurácia:  0.6314724919093851\n",
      "Acurácia:  0.6314724919093851\n",
      "Acurácia:  0.6314724919093851\n",
      "Acurácia:  0.6314724919093851\n",
      "Acurácia:  0.6314724919093851\n",
      "Acurácia:  0.6314724919093851\n",
      "Acurácia:  0.6314724919093851\n",
      "Acurácia:  0.6314724919093851\n",
      "Acurácia:  0.6314724919093851\n",
      "Acurácia:  0.6314724919093851\n",
      "Acurácia:  0.6314724919093851\n",
      "Acurácia:  0.6314724919093851\n",
      "Acurácia:  0.6314724919093851\n",
      "Acurácia:  0.6314724919093851\n",
      "Acurácia:  0.6314724919093851\n",
      "Acurácia:  0.6314724919093851\n",
      "Acurácia:  0.6314724919093851\n",
      "Acurácia:  0.6314724919093851\n",
      "Acurácia:  0.6314724919093851\n",
      "Acurácia:  0.6314724919093851\n",
      "Acurácia:  0.6314724919093851\n",
      "Acurácia:  0.6314724919093851\n",
      "Acurácia:  0.6314724919093851\n",
      "Acurácia:  0.6314724919093851\n",
      "Acurácia:  0.6314724919093851\n",
      "Acurácia:  0.6314724919093851\n",
      "Acurácia:  0.6314724919093851\n",
      "Acurácia:  0.6314724919093851\n",
      "Acurácia:  0.6314724919093851\n",
      "Acurácia:  0.6314724919093851\n",
      "Acurácia:  0.6314724919093851\n",
      "Acurácia:  0.6314724919093851\n",
      "Acurácia:  0.6314724919093851\n",
      "Acurácia:  0.6314724919093851\n",
      "Acurácia:  0.6314724919093851\n",
      "Acurácia:  0.6314724919093851\n",
      "Acurácia:  0.6314724919093851\n",
      "Acurácia:  0.6314724919093851\n",
      "Acurácia:  0.6314724919093851\n",
      "Acurácia:  0.6314724919093851\n",
      "Acurácia:  0.6314724919093851\n",
      "Acurácia:  0.6314724919093851\n",
      "Acurácia:  0.6314724919093851\n",
      "Acurácia:  0.6314724919093851\n"
     ]
    }
   ],
   "source": [
    "# Criação do modelo para aplicação do LogisticRegression\n",
    "for i in range(100):\n",
    "    modelo = LogisticRegression(max_iter=10000, penalty='none', solver='lbfgs')\n",
    "    modelo.fit(x_treino, y_treino)\n",
    "\n",
    "    #Impressão dos resultados\n",
    "    resultado = modelo.score(x_teste, y_teste)\n",
    "    print(\"Acurácia: \", resultado)"
   ]
  },
  {
   "cell_type": "code",
   "execution_count": 10,
   "id": "ed6dfa07",
   "metadata": {},
   "outputs": [
    {
     "data": {
      "text/plain": [
       "0.6459744918294141"
      ]
     },
     "execution_count": 10,
     "metadata": {},
     "output_type": "execute_result"
    }
   ],
   "source": [
    "# Determinando a acurácia na amostra de treino\n",
    "score_treino = modelo.score(x_treino, y_treino)\n",
    "score_treino"
   ]
  },
  {
   "cell_type": "code",
   "execution_count": 11,
   "id": "59381238",
   "metadata": {},
   "outputs": [
    {
     "data": {
      "text/plain": [
       "0.6314724919093851"
      ]
     },
     "execution_count": 11,
     "metadata": {},
     "output_type": "execute_result"
    }
   ],
   "source": [
    "# Realizando previsão na amostra de teste\n",
    "y_previsto = modelo.predict(x_teste)\n",
    "score_teste = modelo.score(x_teste, y_teste)\n",
    "score_teste"
   ]
  },
  {
   "cell_type": "code",
   "execution_count": 12,
   "id": "9fd1c159",
   "metadata": {},
   "outputs": [
    {
     "data": {
      "text/plain": [
       "array([[2108,  534],\n",
       "       [1288, 1014]], dtype=int64)"
      ]
     },
     "execution_count": 12,
     "metadata": {},
     "output_type": "execute_result"
    }
   ],
   "source": [
    "# Gerando Matriz de Confusão\n",
    "cm = confusion_matrix(y_teste, y_previsto)\n",
    "cm"
   ]
  },
  {
   "cell_type": "code",
   "execution_count": 13,
   "id": "8793d702",
   "metadata": {},
   "outputs": [
    {
     "data": {
      "image/png": "[encoded data removed]",
      "text/plain": [
       "<Figure size 640x480 with 2 Axes>"
      ]
     },
     "metadata": {},
     "output_type": "display_data"
    }
   ],
   "source": [
    "# Mapa de calor da Matriz de Confusão\n",
    "sns.heatmap(cm, annot=True, fmt=\"d\")\n",
    "plt.title('Matriz de Confusão', weight='bold')\n",
    "plt.xlabel('Valores Previstos')\n",
    "plt.ylabel('Valores Reais')\n",
    "plt.show()"
   ]
  },
  {
   "cell_type": "code",
   "execution_count": null,
   "id": "cc61abe3",
   "metadata": {},
   "outputs": [],
   "source": []
  }
 ],
 "metadata": {
  "kernelspec": {
   "display_name": "Python 3 (ipykernel)",
   "language": "python",
   "name": "python3"
  },
  "language_info": {
   "codemirror_mode": {
    "name": "ipython",
    "version": 3
   },
   "file_extension": ".py",
   "mimetype": "text/x-python",
   "name": "python",
   "nbconvert_exporter": "python",
   "pygments_lexer": "ipython3",
   "version": "3.9.13"
  }
 },
 "nbformat": 4,
 "nbformat_minor": 5
}
