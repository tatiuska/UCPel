{
 "cells": [
  {
   "cell_type": "code",
   "execution_count": null,
   "id": "7bf07aa1",
   "metadata": {},
   "outputs": [],
   "source": [
    "#Aplicação do algoritmo ExtraTreesClassifier\n",
    "#Importação de bibliotecas\n",
    "import numpy as np\n",
    "import matplotlib.pyplot as plt\n",
    "import pandas as pd\n",
    "import seaborn as sns\n",
    "%matplotlib inline\n",
    "\n",
    "import statsmodels.api as sm\n",
    "import statsmodels.formula.api as smf\n",
    "from sklearn.ensemble import ExtraTreesClassifier\n",
    "from sklearn.metrics import classification_report, confusion_matrix"
   ]
  },
  {
   "cell_type": "code",
   "execution_count": null,
   "id": "262aa04c",
   "metadata": {},
   "outputs": [],
   "source": [
    "#Carregamento do banco de dados\n",
    "arquivo = pd.read_csv('C:/UCPEL/IA-ML/EEG_Eye_State_Classification.csv')"
   ]
  },
  {
   "cell_type": "code",
   "execution_count": null,
   "id": "196280d2",
   "metadata": {},
   "outputs": [],
   "source": [
    "#Visualização do conjunto de dados\n",
    "arquivo.head()"
   ]
  },
  {
   "cell_type": "code",
   "execution_count": null,
   "id": "a8553e89",
   "metadata": {},
   "outputs": [],
   "source": [
    "#Visualização do tamanho do banco de dados\n",
    "arquivo.shape"
   ]
  },
  {
   "cell_type": "code",
   "execution_count": null,
   "id": "6d71efdf",
   "metadata": {},
   "outputs": [],
   "source": [
    "#Gerando Matriz de correlação (Biblioteca Seaborn), com os dados de correlação nas células\n",
    "sns.set(font_scale=1)\n",
    "plt.figure (figsize = (18, 6))\n",
    "cmap = sns.diverging_palette(160, 140, sep=10, as_cmap=True)\n",
    "heatmap = sns.heatmap(arquivo.corr(), cmap=cmap, annot=True, vmin=-1, vmax=1,fmt=\".2f\", annot_kws={'size':10})\n",
    "heatmap.set_title('Correlation Heatmap', fontdict={'fontsize':10}, pad=14);"
   ]
  },
  {
   "cell_type": "code",
   "execution_count": null,
   "id": "c47bab16",
   "metadata": {},
   "outputs": [],
   "source": [
    "#Separação das variáveis preditoras (características) e da variável-alvo (desfecho)\n",
    "y = arquivo['eyeDetection']\n",
    "x = arquivo.drop('eyeDetection', axis = 1)"
   ]
  },
  {
   "cell_type": "code",
   "execution_count": null,
   "id": "02c307b8",
   "metadata": {},
   "outputs": [],
   "source": [
    "#Criação dos conjuntos de treino e teste\n",
    "from sklearn.model_selection import train_test_split\n",
    "\n",
    "x_treino, x_teste, y_treino, y_teste = train_test_split(x, y, test_size = 0.3, random_state = 0)"
   ]
  },
  {
   "cell_type": "code",
   "execution_count": null,
   "id": "f5447853",
   "metadata": {},
   "outputs": [],
   "source": [
    "#Quantidade de dados para treino\n",
    "x_treino.shape"
   ]
  },
  {
   "cell_type": "code",
   "execution_count": null,
   "id": "6fbe982f",
   "metadata": {},
   "outputs": [],
   "source": [
    "#Quantidade de dados para teste\n",
    "x_teste.shape"
   ]
  },
  {
   "cell_type": "code",
   "execution_count": null,
   "id": "0f7b95c7",
   "metadata": {},
   "outputs": [],
   "source": [
    "#Criação do modelo\n",
    "for i in range(100):\n",
    "    modelo = ExtraTreesClassifier()\n",
    "    modelo.fit(x_treino, y_treino)\n",
    "    \n",
    "    #Imprimindo resultados\n",
    "    resultado = modelo.score(x_teste, y_teste)\n",
    "    print(\"Acurácia\", resultado)"
   ]
  },
  {
   "cell_type": "code",
   "execution_count": null,
   "id": "a78ba4e0",
   "metadata": {},
   "outputs": [],
   "source": [
    "#Determinando a acurácia na amostra de treino\n",
    "score_treino = modelo.score(x_treino, y_treino)\n",
    "score_treino"
   ]
  },
  {
   "cell_type": "code",
   "execution_count": null,
   "id": "5458f4a4",
   "metadata": {},
   "outputs": [],
   "source": [
    "#Realizando previsão na amostra de teste\n",
    "y_previsto = modelo.predict(x_teste)\n",
    "score_teste = modelo.score(x_teste, y_teste)\n",
    "score_teste"
   ]
  },
  {
   "cell_type": "code",
   "execution_count": null,
   "id": "eb5fb39c",
   "metadata": {},
   "outputs": [],
   "source": [
    "#Gerando Matriz de Confusão\n",
    "cm = confusion_matrix(y_teste, y_previsto)\n",
    "cm"
   ]
  },
  {
   "cell_type": "code",
   "execution_count": null,
   "id": "0730a2a8",
   "metadata": {},
   "outputs": [],
   "source": [
    "#Mapa de calor da Matriz de Confusão\n",
    "sns.heatmap(cm, annot=True, fmt=\"d\")\n",
    "plt.title('Matriz de Confusão', weight='bold')\n",
    "plt.xlabel('Valores Previstos')\n",
    "plt.ylabel('Valores Reais')\n",
    "plt.show()"
   ]
  },
  {
   "cell_type": "code",
   "execution_count": null,
   "id": "a92bf05f",
   "metadata": {},
   "outputs": [],
   "source": []
  }
 ],
 "metadata": {
  "kernelspec": {
   "display_name": "Python 3 (ipykernel)",
   "language": "python",
   "name": "python3"
  },
  "language_info": {
   "codemirror_mode": {
    "name": "ipython",
    "version": 3
   },
   "file_extension": ".py",
   "mimetype": "text/x-python",
   "name": "python",
   "nbconvert_exporter": "python",
   "pygments_lexer": "ipython3",
   "version": "3.9.13"
  }
 },
 "nbformat": 4,
 "nbformat_minor": 5
}
