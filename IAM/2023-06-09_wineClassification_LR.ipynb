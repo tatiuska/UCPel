{
 "cells": [
  {
   "cell_type": "code",
   "execution_count": null,
   "metadata": {
    "colab": {
     "base_uri": "https://localhost:8080/"
    },
    "id": "ZbRjbKwOYuUj",
    "outputId": "2c44729c-a73b-4b02-fcd7-8f0cdfb39ecb"
   },
   "outputs": [],
   "source": [
    "#Modelo de AM para aplicação do algoritmo LogisticRegression\n",
    "#Importação de bibliotecas\n",
    "import numpy as np\n",
    "import matplotlib.pyplot as plt\n",
    "import seaborn as sns\n",
    "\n",
    "from sklearn.linear_model import LogisticRegression\n",
    "from sklearn.metrics import confusion_matrix"
   ]
  },
  {
   "cell_type": "code",
   "execution_count": null,
   "metadata": {
    "id": "BqN1Hfptdtdx"
   },
   "outputs": [],
   "source": [
    "#Carregamento do banco de dados\n",
    "import pandas as pd \n",
    "arquivo = pd.read_csv('C:/UCPEL/IA-ML/wine_dataset.csv')"
   ]
  },
  {
   "cell_type": "code",
   "execution_count": null,
   "metadata": {
    "colab": {
     "base_uri": "https://localhost:8080/",
     "height": 268
    },
    "id": "LWD1xB2ij083",
    "outputId": "65751541-60a7-4c01-9f45-ed7dc51a634d"
   },
   "outputs": [],
   "source": [
    "#Visualização do conjunto de dados (cinco primeiras amostras)\n",
    "arquivo.head()"
   ]
  },
  {
   "cell_type": "code",
   "execution_count": null,
   "metadata": {
    "colab": {
     "base_uri": "https://localhost:8080/"
    },
    "id": "uOanj-Mzn--e",
    "outputId": "9addfb34-3d91-46f0-de34-04ca24a74537"
   },
   "outputs": [],
   "source": [
    "#Visualização do tamanho do banco de dados\n",
    "arquivo.shape"
   ]
  },
  {
   "cell_type": "code",
   "execution_count": null,
   "metadata": {
    "id": "waPiq6tSjkAw"
   },
   "outputs": [],
   "source": [
    "#Transformar formato texto em formato numérico (desfecho)\n",
    "arquivo['style'] = arquivo['style'].replace('red', 0)\n",
    "arquivo['style'] = arquivo['style'].replace('white', 1)"
   ]
  },
  {
   "cell_type": "code",
   "execution_count": null,
   "metadata": {
    "id": "ZoaQ-eiAlZj0"
   },
   "outputs": [],
   "source": [
    "#Separação das variáveis preditoras (características) e da variável alvo (desfecho)\n",
    "y = arquivo['style']\n",
    "x = arquivo.drop('style', axis = 1)"
   ]
  },
  {
   "cell_type": "code",
   "execution_count": null,
   "metadata": {
    "id": "SU9fbSpum2D9"
   },
   "outputs": [],
   "source": [
    "#Criação dos conjuntos de treino e teste (aleatório)\n",
    "from sklearn.model_selection import train_test_split\n",
    "\n",
    "x_treino, x_teste, y_treino, y_teste = train_test_split(x, y, test_size = 0.33, random_state = 42)"
   ]
  },
  {
   "cell_type": "code",
   "execution_count": null,
   "metadata": {
    "colab": {
     "base_uri": "https://localhost:8080/"
    },
    "id": "dPwnQ3jzoIMd",
    "outputId": "075a4d26-b3fe-40aa-8fdd-b9163a59dd84"
   },
   "outputs": [],
   "source": [
    "#Quantidade de dados para treino\n",
    "x_treino.shape"
   ]
  },
  {
   "cell_type": "code",
   "execution_count": null,
   "metadata": {
    "colab": {
     "base_uri": "https://localhost:8080/"
    },
    "id": "KYzZ_62uosw0",
    "outputId": "acb7e8ea-e8cd-4399-cd0d-1bdda919bb5c"
   },
   "outputs": [],
   "source": [
    "#Quantidade de dados para teste\n",
    "x_teste.shape"
   ]
  },
  {
   "cell_type": "code",
   "execution_count": null,
   "metadata": {
    "colab": {
     "base_uri": "https://localhost:8080/",
     "height": 74
    },
    "id": "Ifze689poz_U",
    "outputId": "c861a16d-e224-4d6b-c75e-49b5d63c7c07"
   },
   "outputs": [],
   "source": [
    "#Criação do modelo para aplicação do LogisticRegression\n",
    "for i in range(100):\n",
    "    modelo = LogisticRegression(max_iter=10000, penalty='none', solver='lbfgs')\n",
    "    modelo.fit(x_treino, y_treino)\n",
    "\n",
    "    #Impressão dos resultados\n",
    "    resultado = modelo.score(x_teste, y_teste)\n",
    "    print(\"Acurácia: \", resultado)"
   ]
  },
  {
   "cell_type": "code",
   "execution_count": null,
   "metadata": {},
   "outputs": [],
   "source": [
    "#Determinando a acurácia na amostra de treino\n",
    "score_treino = modelo.score(x_treino, y_treino)\n",
    "score_treino"
   ]
  },
  {
   "cell_type": "code",
   "execution_count": null,
   "metadata": {},
   "outputs": [],
   "source": [
    "#Realizando previsão na amostra de teste\n",
    "y_previsto = modelo.predict(x_teste)\n",
    "score_teste = modelo.score(x_teste, y_teste)\n",
    "score_teste"
   ]
  },
  {
   "cell_type": "code",
   "execution_count": null,
   "metadata": {},
   "outputs": [],
   "source": [
    "#Gerando Matriz de Confusão\n",
    "cm = confusion_matrix(y_teste, y_previsto)\n",
    "cm"
   ]
  },
  {
   "cell_type": "code",
   "execution_count": null,
   "metadata": {},
   "outputs": [],
   "source": [
    "#Mapa de calor da Matriz de Confusão\n",
    "sns.heatmap(cm, annot=True, fmt=\"d\")\n",
    "plt.title('Matriz de Confusão', weight='bold')\n",
    "plt.xlabel('Valores Previstos')\n",
    "plt.ylabel('Valores Reais')\n",
    "plt.show()"
   ]
  },
  {
   "cell_type": "code",
   "execution_count": null,
   "metadata": {},
   "outputs": [],
   "source": []
  }
 ],
 "metadata": {
  "colab": {
   "provenance": []
  },
  "kernelspec": {
   "display_name": "Python 3 (ipykernel)",
   "language": "python",
   "name": "python3"
  },
  "language_info": {
   "codemirror_mode": {
    "name": "ipython",
    "version": 3
   },
   "file_extension": ".py",
   "mimetype": "text/x-python",
   "name": "python",
   "nbconvert_exporter": "python",
   "pygments_lexer": "ipython3",
   "version": "3.9.13"
  }
 },
 "nbformat": 4,
 "nbformat_minor": 1
}
