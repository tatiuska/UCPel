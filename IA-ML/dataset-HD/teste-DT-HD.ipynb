{
 "cells": [
  {
   "cell_type": "code",
   "execution_count": 1,
   "id": "b4e69326",
   "metadata": {},
   "outputs": [],
   "source": [
    "#Importação de bibliotecas\n",
    "import numpy as np\n",
    "import matplotlib.pyplot as plt\n",
    "import pandas as pd\n",
    "import seaborn as sns\n",
    "%matplotlib inline\n",
    "\n",
    "import statsmodels.api as sm\n",
    "import statsmodels.formula.api as smf\n",
    "from sklearn.tree import DecisionTreeClassifier\n",
    "from sklearn.metrics import classification_report, confusion_matrix"
   ]
  },
  {
   "cell_type": "code",
   "execution_count": 2,
   "id": "26ec310f",
   "metadata": {},
   "outputs": [],
   "source": [
    "#Carregamento do banco de dados\n",
    "arquivo = pd.read_csv('C:/UCPEL/IA-ML/heart-attack.csv')"
   ]
  },
  {
   "cell_type": "code",
   "execution_count": 3,
   "id": "3a0f0d8e",
   "metadata": {},
   "outputs": [
    {
     "data": {
      "text/html": [
       "<div>\n",
       "<style scoped>\n",
       "    .dataframe tbody tr th:only-of-type {\n",
       "        vertical-align: middle;\n",
       "    }\n",
       "\n",
       "    .dataframe tbody tr th {\n",
       "        vertical-align: top;\n",
       "    }\n",
       "\n",
       "    .dataframe thead th {\n",
       "        text-align: right;\n",
       "    }\n",
       "</style>\n",
       "<table border=\"1\" class=\"dataframe\">\n",
       "  <thead>\n",
       "    <tr style=\"text-align: right;\">\n",
       "      <th></th>\n",
       "      <th>age</th>\n",
       "      <th>sex</th>\n",
       "      <th>cp</th>\n",
       "      <th>trestbps</th>\n",
       "      <th>chol</th>\n",
       "      <th>fbs</th>\n",
       "      <th>restecg</th>\n",
       "      <th>thalach</th>\n",
       "      <th>exang</th>\n",
       "      <th>oldpeak</th>\n",
       "      <th>slope</th>\n",
       "      <th>ca</th>\n",
       "      <th>thal</th>\n",
       "      <th>target</th>\n",
       "    </tr>\n",
       "  </thead>\n",
       "  <tbody>\n",
       "    <tr>\n",
       "      <th>0</th>\n",
       "      <td>63</td>\n",
       "      <td>1</td>\n",
       "      <td>3</td>\n",
       "      <td>145</td>\n",
       "      <td>233</td>\n",
       "      <td>1</td>\n",
       "      <td>0</td>\n",
       "      <td>150</td>\n",
       "      <td>0</td>\n",
       "      <td>2.3</td>\n",
       "      <td>0</td>\n",
       "      <td>0</td>\n",
       "      <td>1</td>\n",
       "      <td>1</td>\n",
       "    </tr>\n",
       "    <tr>\n",
       "      <th>1</th>\n",
       "      <td>37</td>\n",
       "      <td>1</td>\n",
       "      <td>2</td>\n",
       "      <td>130</td>\n",
       "      <td>250</td>\n",
       "      <td>0</td>\n",
       "      <td>1</td>\n",
       "      <td>187</td>\n",
       "      <td>0</td>\n",
       "      <td>3.5</td>\n",
       "      <td>0</td>\n",
       "      <td>0</td>\n",
       "      <td>2</td>\n",
       "      <td>1</td>\n",
       "    </tr>\n",
       "    <tr>\n",
       "      <th>2</th>\n",
       "      <td>41</td>\n",
       "      <td>0</td>\n",
       "      <td>1</td>\n",
       "      <td>130</td>\n",
       "      <td>204</td>\n",
       "      <td>0</td>\n",
       "      <td>0</td>\n",
       "      <td>172</td>\n",
       "      <td>0</td>\n",
       "      <td>1.4</td>\n",
       "      <td>2</td>\n",
       "      <td>0</td>\n",
       "      <td>2</td>\n",
       "      <td>1</td>\n",
       "    </tr>\n",
       "    <tr>\n",
       "      <th>3</th>\n",
       "      <td>56</td>\n",
       "      <td>1</td>\n",
       "      <td>1</td>\n",
       "      <td>120</td>\n",
       "      <td>236</td>\n",
       "      <td>0</td>\n",
       "      <td>1</td>\n",
       "      <td>178</td>\n",
       "      <td>0</td>\n",
       "      <td>0.8</td>\n",
       "      <td>2</td>\n",
       "      <td>0</td>\n",
       "      <td>2</td>\n",
       "      <td>1</td>\n",
       "    </tr>\n",
       "    <tr>\n",
       "      <th>4</th>\n",
       "      <td>57</td>\n",
       "      <td>0</td>\n",
       "      <td>0</td>\n",
       "      <td>120</td>\n",
       "      <td>354</td>\n",
       "      <td>0</td>\n",
       "      <td>1</td>\n",
       "      <td>163</td>\n",
       "      <td>1</td>\n",
       "      <td>0.6</td>\n",
       "      <td>2</td>\n",
       "      <td>0</td>\n",
       "      <td>2</td>\n",
       "      <td>1</td>\n",
       "    </tr>\n",
       "  </tbody>\n",
       "</table>\n",
       "</div>"
      ],
      "text/plain": [
       "   age  sex  cp  trestbps  chol  fbs  restecg  thalach  exang  oldpeak  slope  \\\n",
       "0   63    1   3       145   233    1        0      150      0      2.3      0   \n",
       "1   37    1   2       130   250    0        1      187      0      3.5      0   \n",
       "2   41    0   1       130   204    0        0      172      0      1.4      2   \n",
       "3   56    1   1       120   236    0        1      178      0      0.8      2   \n",
       "4   57    0   0       120   354    0        1      163      1      0.6      2   \n",
       "\n",
       "   ca  thal  target  \n",
       "0   0     1       1  \n",
       "1   0     2       1  \n",
       "2   0     2       1  \n",
       "3   0     2       1  \n",
       "4   0     2       1  "
      ]
     },
     "execution_count": 3,
     "metadata": {},
     "output_type": "execute_result"
    }
   ],
   "source": [
    "#Visualização do conjunto de dados\n",
    "arquivo.head()"
   ]
  },
  {
   "cell_type": "code",
   "execution_count": 4,
   "id": "b57c4c43",
   "metadata": {},
   "outputs": [
    {
     "data": {
      "text/plain": [
       "(303, 14)"
      ]
     },
     "execution_count": 4,
     "metadata": {},
     "output_type": "execute_result"
    }
   ],
   "source": [
    "#Visualização do tamanho do banco de dados\n",
    "arquivo.shape"
   ]
  },
  {
   "cell_type": "code",
   "execution_count": 5,
   "id": "c0abb550",
   "metadata": {},
   "outputs": [
    {
     "data": {
      "image/png": "[encoded data removed]",
      "text/plain": [
       "<Figure size 480x480 with 1 Axes>"
      ]
     },
     "metadata": {},
     "output_type": "display_data"
    }
   ],
   "source": [
    "#Gerando Matriz de Correlação por meio da biblioteca Matplotlib\n",
    "plt.matshow(arquivo.corr())\n",
    "plt.show()"
   ]
  },
  {
   "cell_type": "code",
   "execution_count": 6,
   "id": "53941ba6",
   "metadata": {},
   "outputs": [
    {
     "data": {
      "image/png": "[encoded data removed]",
      "text/plain": [
       "<Figure size 1000x1000 with 4 Axes>"
      ]
     },
     "metadata": {},
     "output_type": "display_data"
    }
   ],
   "source": [
    "#Gerando Matriz de correlação usando a biblioteca Seaborn\n",
    "sns_plot = sns.clustermap(arquivo.corr(), cmap=\"rocket_r\")"
   ]
  },
  {
   "cell_type": "code",
   "execution_count": 7,
   "id": "b2249af7",
   "metadata": {},
   "outputs": [],
   "source": [
    "#Separação das variáveis preditoras (características) e da variável-alvo (desfecho)\n",
    "y = arquivo['target']\n",
    "x = arquivo.drop('target', axis = 1)"
   ]
  },
  {
   "cell_type": "code",
   "execution_count": 8,
   "id": "f321148f",
   "metadata": {},
   "outputs": [],
   "source": [
    "#Criação dos conjuntos de treino e teste\n",
    "from sklearn.model_selection import train_test_split\n",
    "\n",
    "x_treino, x_teste, y_treino, y_teste = train_test_split(x, y, test_size = 0.3, random_state = 0)"
   ]
  },
  {
   "cell_type": "code",
   "execution_count": 9,
   "id": "d76bc796",
   "metadata": {},
   "outputs": [
    {
     "data": {
      "text/plain": [
       "(212, 13)"
      ]
     },
     "execution_count": 9,
     "metadata": {},
     "output_type": "execute_result"
    }
   ],
   "source": [
    "#Quantidad de dados para treino\n",
    "x_treino.shape"
   ]
  },
  {
   "cell_type": "code",
   "execution_count": 10,
   "id": "743232a8",
   "metadata": {},
   "outputs": [
    {
     "data": {
      "text/plain": [
       "(91, 13)"
      ]
     },
     "execution_count": 10,
     "metadata": {},
     "output_type": "execute_result"
    }
   ],
   "source": [
    "#Quantidade de dados para teste\n",
    "x_teste.shape"
   ]
  },
  {
   "cell_type": "code",
   "execution_count": 11,
   "id": "1d1b4544",
   "metadata": {},
   "outputs": [
    {
     "name": "stdout",
     "output_type": "stream",
     "text": [
      "Acurácia 0.7252747252747253\n",
      "Acurácia 0.7472527472527473\n",
      "Acurácia 0.7362637362637363\n",
      "Acurácia 0.7472527472527473\n",
      "Acurácia 0.7472527472527473\n",
      "Acurácia 0.7142857142857143\n",
      "Acurácia 0.7582417582417582\n",
      "Acurácia 0.7362637362637363\n",
      "Acurácia 0.7142857142857143\n",
      "Acurácia 0.7362637362637363\n",
      "Acurácia 0.7472527472527473\n",
      "Acurácia 0.7252747252747253\n",
      "Acurácia 0.7252747252747253\n",
      "Acurácia 0.7252747252747253\n",
      "Acurácia 0.7142857142857143\n",
      "Acurácia 0.7582417582417582\n",
      "Acurácia 0.7582417582417582\n",
      "Acurácia 0.7142857142857143\n",
      "Acurácia 0.7142857142857143\n",
      "Acurácia 0.7142857142857143\n",
      "Acurácia 0.7142857142857143\n",
      "Acurácia 0.7142857142857143\n",
      "Acurácia 0.7362637362637363\n",
      "Acurácia 0.7252747252747253\n",
      "Acurácia 0.7142857142857143\n",
      "Acurácia 0.7252747252747253\n",
      "Acurácia 0.7142857142857143\n",
      "Acurácia 0.7582417582417582\n",
      "Acurácia 0.7472527472527473\n",
      "Acurácia 0.7142857142857143\n",
      "Acurácia 0.7472527472527473\n",
      "Acurácia 0.7252747252747253\n",
      "Acurácia 0.7142857142857143\n",
      "Acurácia 0.7472527472527473\n",
      "Acurácia 0.7142857142857143\n",
      "Acurácia 0.7252747252747253\n",
      "Acurácia 0.7142857142857143\n",
      "Acurácia 0.7142857142857143\n",
      "Acurácia 0.7252747252747253\n",
      "Acurácia 0.7582417582417582\n",
      "Acurácia 0.7472527472527473\n",
      "Acurácia 0.7252747252747253\n",
      "Acurácia 0.7142857142857143\n",
      "Acurácia 0.7142857142857143\n",
      "Acurácia 0.7582417582417582\n",
      "Acurácia 0.7142857142857143\n",
      "Acurácia 0.7142857142857143\n",
      "Acurácia 0.7252747252747253\n",
      "Acurácia 0.7472527472527473\n",
      "Acurácia 0.7142857142857143\n",
      "Acurácia 0.7252747252747253\n",
      "Acurácia 0.7142857142857143\n",
      "Acurácia 0.7252747252747253\n",
      "Acurácia 0.7142857142857143\n",
      "Acurácia 0.7472527472527473\n",
      "Acurácia 0.7142857142857143\n",
      "Acurácia 0.7362637362637363\n",
      "Acurácia 0.7252747252747253\n",
      "Acurácia 0.7142857142857143\n",
      "Acurácia 0.7252747252747253\n",
      "Acurácia 0.7252747252747253\n",
      "Acurácia 0.7582417582417582\n",
      "Acurácia 0.7362637362637363\n",
      "Acurácia 0.7472527472527473\n",
      "Acurácia 0.7582417582417582\n",
      "Acurácia 0.7142857142857143\n",
      "Acurácia 0.7142857142857143\n",
      "Acurácia 0.7362637362637363\n",
      "Acurácia 0.7142857142857143\n",
      "Acurácia 0.7472527472527473\n",
      "Acurácia 0.7142857142857143\n",
      "Acurácia 0.7142857142857143\n",
      "Acurácia 0.7252747252747253\n",
      "Acurácia 0.7252747252747253\n",
      "Acurácia 0.7252747252747253\n",
      "Acurácia 0.7142857142857143\n",
      "Acurácia 0.7472527472527473\n",
      "Acurácia 0.7472527472527473\n",
      "Acurácia 0.7142857142857143\n",
      "Acurácia 0.7362637362637363\n",
      "Acurácia 0.7252747252747253\n",
      "Acurácia 0.7472527472527473\n",
      "Acurácia 0.7142857142857143\n",
      "Acurácia 0.7142857142857143\n",
      "Acurácia 0.7142857142857143\n",
      "Acurácia 0.7252747252747253\n",
      "Acurácia 0.7252747252747253\n",
      "Acurácia 0.7252747252747253\n",
      "Acurácia 0.7582417582417582\n",
      "Acurácia 0.7472527472527473\n",
      "Acurácia 0.7472527472527473\n",
      "Acurácia 0.7142857142857143\n",
      "Acurácia 0.7472527472527473\n",
      "Acurácia 0.7362637362637363\n",
      "Acurácia 0.7142857142857143\n",
      "Acurácia 0.7142857142857143\n",
      "Acurácia 0.7142857142857143\n",
      "Acurácia 0.7142857142857143\n",
      "Acurácia 0.7362637362637363\n",
      "Acurácia 0.7362637362637363\n"
     ]
    }
   ],
   "source": [
    "#Criação do modelo\n",
    "for i in range(100):\n",
    "    modelo = DecisionTreeClassifier()\n",
    "    modelo.fit(x_treino, y_treino)\n",
    "    \n",
    "    #Imprimindo resultados\n",
    "    resultado = modelo.score(x_teste, y_teste)\n",
    "    print(\"Acurácia\", resultado)"
   ]
  },
  {
   "cell_type": "code",
   "execution_count": null,
   "id": "0c78865b",
   "metadata": {},
   "outputs": [],
   "source": []
  },
  {
   "cell_type": "code",
   "execution_count": null,
   "id": "92091e26",
   "metadata": {},
   "outputs": [],
   "source": []
  }
 ],
 "metadata": {
  "kernelspec": {
   "display_name": "Python 3 (ipykernel)",
   "language": "python",
   "name": "python3"
  },
  "language_info": {
   "codemirror_mode": {
    "name": "ipython",
    "version": 3
   },
   "file_extension": ".py",
   "mimetype": "text/x-python",
   "name": "python",
   "nbconvert_exporter": "python",
   "pygments_lexer": "ipython3",
   "version": "3.9.13"
  }
 },
 "nbformat": 4,
 "nbformat_minor": 5
}
