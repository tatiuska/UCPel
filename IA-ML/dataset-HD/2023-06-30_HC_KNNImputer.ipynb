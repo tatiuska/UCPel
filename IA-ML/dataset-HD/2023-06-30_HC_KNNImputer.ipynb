{
 "cells": [
  {
   "cell_type": "code",
   "execution_count": 1,
   "id": "1ab82a6b",
   "metadata": {},
   "outputs": [],
   "source": [
    "# Imputação KNN para o dataset de cólica de cavalo\n",
    "from numpy import isnan\n",
    "import pandas as pd\n",
    "from sklearn.impute import KNNImputer"
   ]
  },
  {
   "cell_type": "code",
   "execution_count": 2,
   "id": "9ab76b9d",
   "metadata": {},
   "outputs": [],
   "source": [
    "# Carregando o conjunto de dados com marcação dos dados faltantes\n",
    "arquivo = pd.read_csv('C:/UCPEL/IA-ML/horse-colic.csv', header=None, na_values='?')"
   ]
  },
  {
   "cell_type": "code",
   "execution_count": 3,
   "id": "9c262c5b",
   "metadata": {},
   "outputs": [],
   "source": [
    "# Separando elementos de entrada dos de saída\n",
    "data = arquivo.values\n",
    "ix = [i for i in range(data.shape[1]) if i !=23]\n",
    "X, y = data[:, ix], data[:, 23]"
   ]
  },
  {
   "cell_type": "code",
   "execution_count": 4,
   "id": "52ea0220",
   "metadata": {},
   "outputs": [
    {
     "name": "stdout",
     "output_type": "stream",
     "text": [
      "Dados faltantes: 1605\n"
     ]
    }
   ],
   "source": [
    "# Resumindo o total de dados faltantes\n",
    "print('Dados faltantes: %d' % sum(isnan(X).flatten()))"
   ]
  },
  {
   "cell_type": "code",
   "execution_count": 5,
   "id": "b7df9d8f",
   "metadata": {},
   "outputs": [],
   "source": [
    "# Definindo imputer\n",
    "imputer = KNNImputer()"
   ]
  },
  {
   "cell_type": "code",
   "execution_count": 6,
   "id": "59b2fe59",
   "metadata": {},
   "outputs": [
    {
     "data": {
      "text/plain": [
       "KNNImputer()"
      ]
     },
     "execution_count": 6,
     "metadata": {},
     "output_type": "execute_result"
    }
   ],
   "source": [
    "# Fit no dataset\n",
    "imputer.fit(X)"
   ]
  },
  {
   "cell_type": "code",
   "execution_count": 7,
   "id": "20f5bb44",
   "metadata": {},
   "outputs": [],
   "source": [
    "# Transformando o dataset\n",
    "Xtrans = imputer.transform(X)"
   ]
  },
  {
   "cell_type": "code",
   "execution_count": 8,
   "id": "1453f5de",
   "metadata": {},
   "outputs": [
    {
     "name": "stdout",
     "output_type": "stream",
     "text": [
      "Dados faltantes: 0\n"
     ]
    }
   ],
   "source": [
    "# Resumindo o total de dados faltantes\n",
    "print('Dados faltantes: %d' % sum(isnan(Xtrans).flatten()))"
   ]
  },
  {
   "cell_type": "code",
   "execution_count": null,
   "id": "34b77d63",
   "metadata": {},
   "outputs": [],
   "source": []
  }
 ],
 "metadata": {
  "kernelspec": {
   "display_name": "Python 3 (ipykernel)",
   "language": "python",
   "name": "python3"
  },
  "language_info": {
   "codemirror_mode": {
    "name": "ipython",
    "version": 3
   },
   "file_extension": ".py",
   "mimetype": "text/x-python",
   "name": "python",
   "nbconvert_exporter": "python",
   "pygments_lexer": "ipython3",
   "version": "3.9.13"
  }
 },
 "nbformat": 4,
 "nbformat_minor": 5
}
