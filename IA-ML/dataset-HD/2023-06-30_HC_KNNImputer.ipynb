{
 "cells": [
  {
   "cell_type": "code",
   "execution_count": 1,
   "id": "442f6c84",
   "metadata": {},
   "outputs": [],
   "source": [
    "# Imputação KNN para o dataset de cólica de cavalo\n",
    "from numpy import isnan\n",
    "import pandas as pd\n",
    "from sklearn.impute import KNNImputer"
   ]
  },
  {
   "cell_type": "code",
   "execution_count": 2,
   "id": "ff3b578a",
   "metadata": {},
   "outputs": [],
   "source": [
    "# Carregando o conjunto de dados com marcação dos dados faltantes\n",
    "arquivo = pd.read_csv('C:/UCPEL/IA-ML/horse-colic.csv', header=None, na_values='?')"
   ]
  },
  {
   "cell_type": "code",
   "execution_count": 3,
   "id": "a070a353",
   "metadata": {},
   "outputs": [],
   "source": [
    "# Separando elementos de entrada dos de saída\n",
    "data = arquivo.values\n",
    "ix = [i for i in range(data.shape[1]) if i !=23]\n",
    "X, y = data[:, ix], data[:, 23]"
   ]
  },
  {
   "cell_type": "code",
   "execution_count": null,
   "id": "17d8175e",
   "metadata": {},
   "outputs": [],
   "source": [
    "# Resumindo o total de dados faltantes\n",
    "print('Dados faltantes: %d' % sum(isnan(X).flatten()))"
   ]
  },
  {
   "cell_type": "code",
   "execution_count": null,
   "id": "cc1e9204",
   "metadata": {},
   "outputs": [],
   "source": [
    "# Definindo imputer\n",
    "imputer = KNNImputer()"
   ]
  },
  {
   "cell_type": "code",
   "execution_count": null,
   "id": "6ebba2b4",
   "metadata": {},
   "outputs": [],
   "source": [
    "# Fit no dataset\n",
    "imputer.fit(X)"
   ]
  },
  {
   "cell_type": "code",
   "execution_count": null,
   "id": "918c7812",
   "metadata": {},
   "outputs": [],
   "source": [
    "# Transformando o dataset\n",
    "Xtrans = imputer.transform(X)"
   ]
  },
  {
   "cell_type": "code",
   "execution_count": null,
   "id": "4e5c712f",
   "metadata": {},
   "outputs": [],
   "source": [
    "# Resumindo o total de dados faltantes\n",
    "print('Dados faltantes: %d' % sum((Xtrans).flatten()))"
   ]
  },
  {
   "cell_type": "code",
   "execution_count": null,
   "id": "281ca036",
   "metadata": {},
   "outputs": [],
   "source": []
  }
 ],
 "metadata": {
  "kernelspec": {
   "display_name": "Python 3 (ipykernel)",
   "language": "python",
   "name": "python3"
  },
  "language_info": {
   "codemirror_mode": {
    "name": "ipython",
    "version": 3
   },
   "file_extension": ".py",
   "mimetype": "text/x-python",
   "name": "python",
   "nbconvert_exporter": "python",
   "pygments_lexer": "ipython3",
   "version": "3.9.13"
  }
 },
 "nbformat": 4,
 "nbformat_minor": 5
}
