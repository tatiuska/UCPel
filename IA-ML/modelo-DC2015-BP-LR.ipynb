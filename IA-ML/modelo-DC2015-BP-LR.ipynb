{
 "cells": [
  {
   "cell_type": "code",
   "execution_count": null,
   "id": "2d574a00",
   "metadata": {},
   "outputs": [],
   "source": [
    "#Aplicação do LogisticRegression na base de dados de Doenças Cardíacas, considerando o atributo HighBP\n",
    "#Carregando o conjunto de dados\n",
    "import pandas as pd\n",
    "arquivo = pd.read_csv('D:/UCPEL/IA-ML/HDI-2015.csv')"
   ]
  },
  {
   "cell_type": "code",
   "execution_count": null,
   "id": "74f1c391",
   "metadata": {},
   "outputs": [],
   "source": [
    "arquivo.head()"
   ]
  },
  {
   "cell_type": "code",
   "execution_count": null,
   "id": "ad755a2f",
   "metadata": {},
   "outputs": [],
   "source": [
    "#Separando as variáveis entre preditoras e variável-alvo\n",
    "y = arquivo['HighBP']\n",
    "x = arquivo.drop('HighBP', axis = 1)"
   ]
  },
  {
   "cell_type": "code",
   "execution_count": null,
   "id": "8dbef137",
   "metadata": {},
   "outputs": [],
   "source": [
    "from sklearn.model_selection import train_test_split\n",
    "\n",
    "x_treino, x_teste, y_treino, y_teste = train_test_split(x, y, test_size = 0.3, random_state = 0)"
   ]
  },
  {
   "cell_type": "code",
   "execution_count": null,
   "id": "240ee547",
   "metadata": {},
   "outputs": [],
   "source": [
    "arquivo.shape"
   ]
  },
  {
   "cell_type": "code",
   "execution_count": null,
   "id": "eb83f489",
   "metadata": {},
   "outputs": [],
   "source": [
    "from sklearn.linear_model import LogisticRegression\n",
    "for i in range(100):\n",
    "    modelo = LogisticRegression()\n",
    "    modelo.fit(x_treino, y_treino)\n",
    "    \n",
    "    resultado = modelo.score(x_teste, y_teste)\n",
    "    print(\"Acurácia:\", resultado)"
   ]
  },
  {
   "cell_type": "code",
   "execution_count": null,
   "id": "2598c2a1",
   "metadata": {},
   "outputs": [],
   "source": [
    "y_teste[400:403]"
   ]
  },
  {
   "cell_type": "code",
   "execution_count": null,
   "id": "ee1382c6",
   "metadata": {},
   "outputs": [],
   "source": [
    "x_teste[400:403]"
   ]
  },
  {
   "cell_type": "code",
   "execution_count": null,
   "id": "d2d7a7f6",
   "metadata": {},
   "outputs": [],
   "source": [
    "previsoes = modelo.predict(x_teste[400:403])"
   ]
  },
  {
   "cell_type": "code",
   "execution_count": null,
   "id": "fc289fd9",
   "metadata": {},
   "outputs": [],
   "source": [
    "previsoes"
   ]
  }
 ],
 "metadata": {
  "kernelspec": {
   "display_name": "Python 3 (ipykernel)",
   "language": "python",
   "name": "python3"
  },
  "language_info": {
   "codemirror_mode": {
    "name": "ipython",
    "version": 3
   },
   "file_extension": ".py",
   "mimetype": "text/x-python",
   "name": "python",
   "nbconvert_exporter": "python",
   "pygments_lexer": "ipython3",
   "version": "3.9.13"
  }
 },
 "nbformat": 4,
 "nbformat_minor": 5
}
